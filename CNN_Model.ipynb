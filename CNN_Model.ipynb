{
  "nbformat": 4,
  "nbformat_minor": 0,
  "metadata": {
    "kernelspec": {
      "name": "python3",
      "display_name": "Python 3"
    },
    "colab": {
      "name": "CNN_Model.ipynb",
      "provenance": [],
      "collapsed_sections": []
    },
    "accelerator": "GPU"
  },
  "cells": [
    {
      "cell_type": "code",
      "metadata": {
        "id": "HyPv0H6Xfmml",
        "outputId": "bbb26fe3-17d1-4398-e8ee-86ad7408d70f",
        "colab": {
          "base_uri": "https://localhost:8080/"
        }
      },
      "source": [
        "from google.colab import drive\n",
        "drive.mount('/content/drive')"
      ],
      "execution_count": 3,
      "outputs": [
        {
          "output_type": "stream",
          "text": [
            "Drive already mounted at /content/drive; to attempt to forcibly remount, call drive.mount(\"/content/drive\", force_remount=True).\n"
          ],
          "name": "stdout"
        }
      ]
    },
    {
      "cell_type": "code",
      "metadata": {
        "id": "QJB8fglRf5Xh",
        "outputId": "a8bc9a0d-330a-4a24-e9fb-0278cae9c0c3",
        "colab": {
          "base_uri": "https://localhost:8080/"
        }
      },
      "source": [
        "%cd \"drive/My Drive/MusicGenreClassification\""
      ],
      "execution_count": 4,
      "outputs": [
        {
          "output_type": "stream",
          "text": [
            "/content/drive/My Drive/MusicGenreClassification\n"
          ],
          "name": "stdout"
        }
      ]
    },
    {
      "cell_type": "code",
      "metadata": {
        "id": "nJMq0O5hfd9N"
      },
      "source": [
        "import numpy as np\n",
        "import pandas as pd\n",
        "import tensorflow as tf"
      ],
      "execution_count": 5,
      "outputs": []
    },
    {
      "cell_type": "code",
      "metadata": {
        "id": "UI8i9xRtfd9j"
      },
      "source": [
        "from tensorflow.keras.models import Model,save_model,load_model\n",
        "from tensorflow.keras.layers import (Input, Dense,Conv2D,Dropout,Activation,\n",
        "                                     BatchNormalization,Flatten,MaxPool2D,)\n",
        "from tensorflow.keras.optimizers import Adam\n",
        "from tensorflow.keras.utils import to_categorical\n",
        "tf.config.experimental.set_memory_growth = True"
      ],
      "execution_count": 135,
      "outputs": []
    },
    {
      "cell_type": "code",
      "metadata": {
        "id": "Ti1d2qjofd9v"
      },
      "source": [
        "import os\n",
        "import json\n",
        "import random\n",
        "\n",
        "import librosa\n",
        "import librosa.display\n",
        "\n",
        "from sklearn.model_selection import train_test_split\n",
        "import matplotlib.pyplot as plt\n",
        "from mpl_toolkits.axes_grid1 import make_axes_locatable\n",
        "from matplotlib import cm\n",
        "import seaborn as sns\n",
        "\n",
        "from sklearn.metrics import confusion_matrix,classification_report\n"
      ],
      "execution_count": 148,
      "outputs": []
    },
    {
      "cell_type": "markdown",
      "metadata": {
        "id": "zXsZlNs8fd91"
      },
      "source": [
        "## Load Data"
      ]
    },
    {
      "cell_type": "code",
      "metadata": {
        "id": "c1KtkhoOfd95"
      },
      "source": [
        "DATASET_PATH = os.path.join(os.getcwd(), 'data.json')\n",
        "\n",
        "def load_data(dataset_path):\n",
        "    with open(dataset_path, 'r')as file:\n",
        "        data = json.load(file)\n",
        "        \n",
        "        class_names = data[\"class_names\"]\n",
        "        inputs = np.array(data['mfcc'])\n",
        "        targets = np.array(data['labels'])\n",
        "        \n",
        "        return inputs, targets , class_names"
      ],
      "execution_count": 8,
      "outputs": []
    },
    {
      "cell_type": "code",
      "metadata": {
        "id": "AuL_UmShfd-B"
      },
      "source": [
        "x, y, class_names = load_data(DATASET_PATH)\n",
        "x_train, x_test, y_train, y_test = train_test_split(x, y, test_size=0.3)"
      ],
      "execution_count": 75,
      "outputs": []
    },
    {
      "cell_type": "markdown",
      "metadata": {
        "id": "7xxZH8yDQrIW"
      },
      "source": [
        "# Preprocess Data"
      ]
    },
    {
      "cell_type": "code",
      "metadata": {
        "id": "bpP9P2vxfd-H"
      },
      "source": [
        "x_train = x_train.reshape((6990, 130, 13,1)) / 255\n",
        "x_test = x_test.reshape((2996, 130, 13,1))  / 255"
      ],
      "execution_count": 76,
      "outputs": []
    },
    {
      "cell_type": "code",
      "metadata": {
        "id": "15e7ocfbfd-Q",
        "outputId": "07a93bc7-942e-4345-b749-67ebb0889320",
        "colab": {
          "base_uri": "https://localhost:8080/"
        }
      },
      "source": [
        "x_train.shape"
      ],
      "execution_count": 77,
      "outputs": [
        {
          "output_type": "execute_result",
          "data": {
            "text/plain": [
              "(6990, 130, 13, 1)"
            ]
          },
          "metadata": {
            "tags": []
          },
          "execution_count": 77
        }
      ]
    },
    {
      "cell_type": "code",
      "metadata": {
        "id": "n24BJ38Pfd-W",
        "outputId": "5fbb3a43-b62e-4fa5-a0ff-b52346f25148",
        "colab": {
          "base_uri": "https://localhost:8080/"
        }
      },
      "source": [
        "x_test.shape"
      ],
      "execution_count": 78,
      "outputs": [
        {
          "output_type": "execute_result",
          "data": {
            "text/plain": [
              "(2996, 130, 13, 1)"
            ]
          },
          "metadata": {
            "tags": []
          },
          "execution_count": 78
        }
      ]
    },
    {
      "cell_type": "code",
      "metadata": {
        "id": "qSqwICI2mzyR"
      },
      "source": [
        "y_dataframe = pd.DataFrame(y_train)"
      ],
      "execution_count": 79,
      "outputs": []
    },
    {
      "cell_type": "code",
      "metadata": {
        "id": "Elln8wNCnaDw"
      },
      "source": [
        "counts = {}\n",
        "for i in range(10):\n",
        "    counts[i] = len(y_dataframe[y_dataframe[0] == i])"
      ],
      "execution_count": 80,
      "outputs": []
    },
    {
      "cell_type": "code",
      "metadata": {
        "id": "U6-vKYdDoq79",
        "outputId": "23880ba0-a3a2-41a2-d825-8c0cd2c7f618",
        "colab": {
          "base_uri": "https://localhost:8080/"
        }
      },
      "source": [
        "train_data_counts = []\n",
        "for key,value in counts.items():\n",
        "    train_data_counts.append(value)\n",
        "train_data_counts"
      ],
      "execution_count": 81,
      "outputs": [
        {
          "output_type": "execute_result",
          "data": {
            "text/plain": [
              "[700, 702, 711, 693, 711, 700, 699, 692, 691, 691]"
            ]
          },
          "metadata": {
            "tags": []
          },
          "execution_count": 81
        }
      ]
    },
    {
      "cell_type": "code",
      "metadata": {
        "id": "4848IaXon8GY",
        "outputId": "7c138f0d-082d-4931-d065-4c772cab5d6a",
        "colab": {
          "base_uri": "https://localhost:8080/",
          "height": 474
        }
      },
      "source": [
        "# Checking if train_data is balanced\n",
        "\n",
        "plt.rcdefaults()\n",
        "\n",
        "objects = class_names\n",
        "y_pos = np.arange(len(train_data_counts))\n",
        "performance = train_data_counts\n",
        "\n",
        "plt.bar(y_pos, train_data_counts, align='center', alpha=0.5)\n",
        "plt.xticks(y_pos, objects,rotation=90)\n",
        "plt.ylabel('counts')\n",
        "\n",
        "plt.show()"
      ],
      "execution_count": 82,
      "outputs": [
        {
          "output_type": "display_data",
          "data": {
            "image/png": "[encoded data removed]",
            "text/plain": [
              "<Figure size 640x480 with 1 Axes>"
            ]
          },
          "metadata": {
            "tags": []
          }
        }
      ]
    },
    {
      "cell_type": "code",
      "metadata": {
        "id": "7PTiDA1rfd-i"
      },
      "source": [
        "y_train_onehot = to_categorical(y_train)\n",
        "y_test_onehot = to_categorical(y_test)"
      ],
      "execution_count": 83,
      "outputs": []
    },
    {
      "cell_type": "code",
      "metadata": {
        "id": "C04CRahgfd-l",
        "outputId": "3734e376-a735-4a63-8706-ccf7f5cfd00c",
        "colab": {
          "base_uri": "https://localhost:8080/",
          "height": 564
        }
      },
      "source": [
        "# plotting one sample\n",
        "\n",
        "image_number = random.randint(0,x_train.shape[0])\n",
        "fig, ax = plt.subplots( figsize=(8, 6))\n",
        "m_slaney = x_train[image_number].T.reshape((13,130))\n",
        "img = ax.imshow(m_slaney, interpolation='nearest', cmap=cm.coolwarm, origin='lower', aspect='auto')\n",
        "ax.set(title='MFCC')\n",
        "ax.set_xlabel('time')\n",
        "# ax.set_ylabel('Y-axis')\n",
        "\n",
        "fig.colorbar(img);"
      ],
      "execution_count": 153,
      "outputs": [
        {
          "output_type": "display_data",
          "data": {
            "image/png": "[encoded data removed]",
            "text/plain": [
              "<Figure size 800x600 with 2 Axes>"
            ]
          },
          "metadata": {
            "tags": []
          }
        }
      ]
    },
    {
      "cell_type": "markdown",
      "metadata": {
        "id": "N9y3NipeQV5I"
      },
      "source": [
        "## Model"
      ]
    },
    {
      "cell_type": "code",
      "metadata": {
        "id": "T43OLRLOfd-w"
      },
      "source": [
        "model_input = Input(shape=(130,13,1))\n",
        "x = model_input\n",
        "\n",
        "x = Conv2D(64,kernel_size=3,strides=2,padding=\"same\",activation=None)(x)\n",
        "x = BatchNormalization()(x)\n",
        "x = Activation(\"relu\")(x)\n",
        "x = Dropout(0.25)(x)\n",
        "\n",
        "x = Conv2D(64,kernel_size=3,strides=2,padding=\"same\",activation=None)(x)\n",
        "x = BatchNormalization()(x)\n",
        "x = Activation(\"relu\")(x)\n",
        "x = Dropout(0.25)(x)\n",
        "\n",
        "x = Conv2D(112,kernel_size=3,strides=2,padding=\"same\",activation=None)(x)\n",
        "x = BatchNormalization()(x)\n",
        "x = Activation(\"relu\")(x)\n",
        "x = Dropout(0.25)(x)\n",
        "\n",
        "x = Conv2D(112,kernel_size=3,strides=2,padding=\"same\",activation=None)(x)\n",
        "x = BatchNormalization()(x)\n",
        "x = Activation(\"relu\")(x)\n",
        "x = Dropout(0.25)(x)\n",
        "\n",
        "x = Conv2D(112,kernel_size=3,strides=2,padding=\"same\",activation=None)(x)\n",
        "x = BatchNormalization()(x)\n",
        "x = Activation(\"relu\")(x)\n",
        "x = Dropout(0.25)(x)\n",
        "\n",
        "x = Conv2D(112,kernel_size=3,strides=2,padding=\"same\",activation=None)(x)\n",
        "x = BatchNormalization()(x)\n",
        "x = Activation(\"relu\")(x)\n",
        "x = Dropout(0.25)(x)\n",
        "\n",
        "x = Conv2D(256,kernel_size=3,strides=2,padding=\"same\",activation=None)(x)\n",
        "x = BatchNormalization()(x)\n",
        "x = Activation(\"relu\")(x)\n",
        "x = Dropout(0.25)(x)\n",
        "\n",
        "x = Conv2D(256,kernel_size=3,strides=2,padding=\"same\",activation=None)(x)\n",
        "x = BatchNormalization()(x)\n",
        "x = Activation(\"relu\")(x)\n",
        "x = Dropout(0.25)(x)\n",
        "\n",
        "x = Conv2D(256,kernel_size=3,strides=2,padding=\"same\",activation=None)(x)\n",
        "x = BatchNormalization()(x)\n",
        "x = Activation(\"relu\")(x)\n",
        "x = Dropout(0.25)(x)\n",
        "\n",
        "x = Conv2D(256,kernel_size=3,strides=2,padding=\"same\",activation=None)(x)\n",
        "x = BatchNormalization()(x)\n",
        "x = Activation(\"relu\")(x)\n",
        "x = Dropout(0.25)(x)\n",
        "\n",
        "x = Flatten()(x)\n",
        "x = Dense(10,activation=None)(x)\n",
        "model_output = Activation(\"softmax\")(x)\n",
        "\n",
        "model = Model(model_input,model_output,name=\"genre_classifier\")\n",
        "model.compile(loss=\"categorical_crossentropy\",optimizer=Adam(learning_rate=0.0001),metrics=['accuracy'])"
      ],
      "execution_count": 43,
      "outputs": []
    },
    {
      "cell_type": "code",
      "metadata": {
        "id": "ia1LLyoSfd-0",
        "outputId": "40a67acc-9e35-4dce-aaca-9339f89ed1f5",
        "colab": {
          "base_uri": "https://localhost:8080/"
        }
      },
      "source": [
        "model.summary()"
      ],
      "execution_count": 44,
      "outputs": [
        {
          "output_type": "stream",
          "text": [
            "Model: \"genre_classifier\"\n",
            "_________________________________________________________________\n",
            "Layer (type)                 Output Shape              Param #   \n",
            "=================================================================\n",
            "input_7 (InputLayer)         [(None, 130, 13, 1)]      0         \n",
            "_________________________________________________________________\n",
            "conv2d_60 (Conv2D)           (None, 65, 7, 64)         640       \n",
            "_________________________________________________________________\n",
            "batch_normalization_9 (Batch (None, 65, 7, 64)         256       \n",
            "_________________________________________________________________\n",
            "activation_6 (Activation)    (None, 65, 7, 64)         0         \n",
            "_________________________________________________________________\n",
            "dropout_39 (Dropout)         (None, 65, 7, 64)         0         \n",
            "_________________________________________________________________\n",
            "conv2d_61 (Conv2D)           (None, 33, 4, 64)         36928     \n",
            "_________________________________________________________________\n",
            "batch_normalization_10 (Batc (None, 33, 4, 64)         256       \n",
            "_________________________________________________________________\n",
            "activation_7 (Activation)    (None, 33, 4, 64)         0         \n",
            "_________________________________________________________________\n",
            "dropout_40 (Dropout)         (None, 33, 4, 64)         0         \n",
            "_________________________________________________________________\n",
            "conv2d_62 (Conv2D)           (None, 17, 2, 112)        64624     \n",
            "_________________________________________________________________\n",
            "batch_normalization_11 (Batc (None, 17, 2, 112)        448       \n",
            "_________________________________________________________________\n",
            "activation_8 (Activation)    (None, 17, 2, 112)        0         \n",
            "_________________________________________________________________\n",
            "dropout_41 (Dropout)         (None, 17, 2, 112)        0         \n",
            "_________________________________________________________________\n",
            "conv2d_63 (Conv2D)           (None, 9, 1, 112)         113008    \n",
            "_________________________________________________________________\n",
            "batch_normalization_12 (Batc (None, 9, 1, 112)         448       \n",
            "_________________________________________________________________\n",
            "activation_9 (Activation)    (None, 9, 1, 112)         0         \n",
            "_________________________________________________________________\n",
            "dropout_42 (Dropout)         (None, 9, 1, 112)         0         \n",
            "_________________________________________________________________\n",
            "conv2d_64 (Conv2D)           (None, 5, 1, 112)         113008    \n",
            "_________________________________________________________________\n",
            "batch_normalization_13 (Batc (None, 5, 1, 112)         448       \n",
            "_________________________________________________________________\n",
            "activation_10 (Activation)   (None, 5, 1, 112)         0         \n",
            "_________________________________________________________________\n",
            "dropout_43 (Dropout)         (None, 5, 1, 112)         0         \n",
            "_________________________________________________________________\n",
            "conv2d_65 (Conv2D)           (None, 3, 1, 112)         113008    \n",
            "_________________________________________________________________\n",
            "batch_normalization_14 (Batc (None, 3, 1, 112)         448       \n",
            "_________________________________________________________________\n",
            "activation_11 (Activation)   (None, 3, 1, 112)         0         \n",
            "_________________________________________________________________\n",
            "dropout_44 (Dropout)         (None, 3, 1, 112)         0         \n",
            "_________________________________________________________________\n",
            "conv2d_66 (Conv2D)           (None, 2, 1, 256)         258304    \n",
            "_________________________________________________________________\n",
            "batch_normalization_15 (Batc (None, 2, 1, 256)         1024      \n",
            "_________________________________________________________________\n",
            "activation_12 (Activation)   (None, 2, 1, 256)         0         \n",
            "_________________________________________________________________\n",
            "dropout_45 (Dropout)         (None, 2, 1, 256)         0         \n",
            "_________________________________________________________________\n",
            "conv2d_67 (Conv2D)           (None, 1, 1, 256)         590080    \n",
            "_________________________________________________________________\n",
            "batch_normalization_16 (Batc (None, 1, 1, 256)         1024      \n",
            "_________________________________________________________________\n",
            "activation_13 (Activation)   (None, 1, 1, 256)         0         \n",
            "_________________________________________________________________\n",
            "dropout_46 (Dropout)         (None, 1, 1, 256)         0         \n",
            "_________________________________________________________________\n",
            "conv2d_68 (Conv2D)           (None, 1, 1, 256)         590080    \n",
            "_________________________________________________________________\n",
            "batch_normalization_17 (Batc (None, 1, 1, 256)         1024      \n",
            "_________________________________________________________________\n",
            "activation_14 (Activation)   (None, 1, 1, 256)         0         \n",
            "_________________________________________________________________\n",
            "dropout_47 (Dropout)         (None, 1, 1, 256)         0         \n",
            "_________________________________________________________________\n",
            "conv2d_69 (Conv2D)           (None, 1, 1, 256)         590080    \n",
            "_________________________________________________________________\n",
            "batch_normalization_18 (Batc (None, 1, 1, 256)         1024      \n",
            "_________________________________________________________________\n",
            "activation_15 (Activation)   (None, 1, 1, 256)         0         \n",
            "_________________________________________________________________\n",
            "dropout_48 (Dropout)         (None, 1, 1, 256)         0         \n",
            "_________________________________________________________________\n",
            "flatten_6 (Flatten)          (None, 256)               0         \n",
            "_________________________________________________________________\n",
            "dense_6 (Dense)              (None, 10)                2570      \n",
            "_________________________________________________________________\n",
            "activation_16 (Activation)   (None, 10)                0         \n",
            "=================================================================\n",
            "Total params: 2,478,730\n",
            "Trainable params: 2,475,530\n",
            "Non-trainable params: 3,200\n",
            "_________________________________________________________________\n"
          ],
          "name": "stdout"
        }
      ]
    },
    {
      "cell_type": "markdown",
      "metadata": {
        "id": "wcYrYnRLQcm7"
      },
      "source": [
        "# Training"
      ]
    },
    {
      "cell_type": "code",
      "metadata": {
        "scrolled": true,
        "id": "9lM7iQYmfd_G",
        "outputId": "002ca221-5a1d-42bd-febc-326d38c23167",
        "colab": {
          "base_uri": "https://localhost:8080/"
        }
      },
      "source": [
        "hist = model.fit(x_train,y_train_onehot,batch_size=32,validation_data=(x_test,y_test_onehot),epochs=500)"
      ],
      "execution_count": 45,
      "outputs": [
        {
          "output_type": "stream",
          "text": [
            "Epoch 1/500\n",
            "219/219 [==============================] - 2s 10ms/step - loss: 2.4372 - accuracy: 0.1545 - val_loss: 2.4259 - val_accuracy: 0.1111\n",
            "Epoch 2/500\n",
            "219/219 [==============================] - 2s 9ms/step - loss: 2.2277 - accuracy: 0.1894 - val_loss: 2.7156 - val_accuracy: 0.1111\n",
            "Epoch 3/500\n",
            "219/219 [==============================] - 2s 9ms/step - loss: 2.1167 - accuracy: 0.2196 - val_loss: 2.5422 - val_accuracy: 0.1315\n",
            "Epoch 4/500\n",
            "219/219 [==============================] - 2s 9ms/step - loss: 2.0082 - accuracy: 0.2664 - val_loss: 2.3114 - val_accuracy: 0.2460\n",
            "Epoch 5/500\n",
            "219/219 [==============================] - 2s 9ms/step - loss: 1.9167 - accuracy: 0.2906 - val_loss: 2.1889 - val_accuracy: 0.2730\n",
            "Epoch 6/500\n",
            "219/219 [==============================] - 2s 9ms/step - loss: 1.8708 - accuracy: 0.3103 - val_loss: 2.0555 - val_accuracy: 0.2977\n",
            "Epoch 7/500\n",
            "219/219 [==============================] - 2s 9ms/step - loss: 1.8050 - accuracy: 0.3322 - val_loss: 2.0278 - val_accuracy: 0.2934\n",
            "Epoch 8/500\n",
            "219/219 [==============================] - 2s 9ms/step - loss: 1.7634 - accuracy: 0.3515 - val_loss: 1.8055 - val_accuracy: 0.3378\n",
            "Epoch 9/500\n",
            "219/219 [==============================] - 2s 9ms/step - loss: 1.7304 - accuracy: 0.3644 - val_loss: 1.7530 - val_accuracy: 0.3465\n",
            "Epoch 10/500\n",
            "219/219 [==============================] - 2s 9ms/step - loss: 1.6796 - accuracy: 0.3845 - val_loss: 1.6771 - val_accuracy: 0.3668\n",
            "Epoch 11/500\n",
            "219/219 [==============================] - 2s 9ms/step - loss: 1.6512 - accuracy: 0.3970 - val_loss: 1.5605 - val_accuracy: 0.4172\n",
            "Epoch 12/500\n",
            "219/219 [==============================] - 2s 9ms/step - loss: 1.5877 - accuracy: 0.4193 - val_loss: 1.5232 - val_accuracy: 0.4276\n",
            "Epoch 13/500\n",
            "219/219 [==============================] - 2s 9ms/step - loss: 1.5488 - accuracy: 0.4365 - val_loss: 1.4916 - val_accuracy: 0.4352\n",
            "Epoch 14/500\n",
            "219/219 [==============================] - 2s 9ms/step - loss: 1.4975 - accuracy: 0.4618 - val_loss: 1.4093 - val_accuracy: 0.4646\n",
            "Epoch 15/500\n",
            "219/219 [==============================] - 2s 9ms/step - loss: 1.4656 - accuracy: 0.4641 - val_loss: 1.3325 - val_accuracy: 0.4940\n",
            "Epoch 16/500\n",
            "219/219 [==============================] - 2s 9ms/step - loss: 1.4345 - accuracy: 0.4828 - val_loss: 1.3303 - val_accuracy: 0.5123\n",
            "Epoch 17/500\n",
            "219/219 [==============================] - 2s 9ms/step - loss: 1.3938 - accuracy: 0.4981 - val_loss: 1.3279 - val_accuracy: 0.5207\n",
            "Epoch 18/500\n",
            "219/219 [==============================] - 2s 9ms/step - loss: 1.3494 - accuracy: 0.5109 - val_loss: 1.2303 - val_accuracy: 0.5481\n",
            "Epoch 19/500\n",
            "219/219 [==============================] - 2s 9ms/step - loss: 1.3136 - accuracy: 0.5233 - val_loss: 1.1960 - val_accuracy: 0.5501\n",
            "Epoch 20/500\n",
            "219/219 [==============================] - 2s 9ms/step - loss: 1.3093 - accuracy: 0.5216 - val_loss: 1.2349 - val_accuracy: 0.5424\n",
            "Epoch 21/500\n",
            "219/219 [==============================] - 2s 9ms/step - loss: 1.2709 - accuracy: 0.5462 - val_loss: 1.2406 - val_accuracy: 0.5457\n",
            "Epoch 22/500\n",
            "219/219 [==============================] - 2s 9ms/step - loss: 1.2500 - accuracy: 0.5526 - val_loss: 1.1199 - val_accuracy: 0.5858\n",
            "Epoch 23/500\n",
            "219/219 [==============================] - 2s 9ms/step - loss: 1.2187 - accuracy: 0.5682 - val_loss: 1.1352 - val_accuracy: 0.5878\n",
            "Epoch 24/500\n",
            "219/219 [==============================] - 2s 9ms/step - loss: 1.1922 - accuracy: 0.5718 - val_loss: 1.0958 - val_accuracy: 0.6041\n",
            "Epoch 25/500\n",
            "219/219 [==============================] - 2s 9ms/step - loss: 1.1716 - accuracy: 0.5768 - val_loss: 1.0540 - val_accuracy: 0.6132\n",
            "Epoch 26/500\n",
            "219/219 [==============================] - 2s 9ms/step - loss: 1.1431 - accuracy: 0.5877 - val_loss: 1.0380 - val_accuracy: 0.6272\n",
            "Epoch 27/500\n",
            "219/219 [==============================] - 2s 9ms/step - loss: 1.1635 - accuracy: 0.5838 - val_loss: 1.0045 - val_accuracy: 0.6298\n",
            "Epoch 28/500\n",
            "219/219 [==============================] - 2s 9ms/step - loss: 1.1260 - accuracy: 0.5936 - val_loss: 1.0009 - val_accuracy: 0.6429\n",
            "Epoch 29/500\n",
            "219/219 [==============================] - 2s 9ms/step - loss: 1.1203 - accuracy: 0.6016 - val_loss: 0.9757 - val_accuracy: 0.6562\n",
            "Epoch 30/500\n",
            "219/219 [==============================] - 2s 9ms/step - loss: 1.0722 - accuracy: 0.6169 - val_loss: 1.0182 - val_accuracy: 0.6325\n",
            "Epoch 31/500\n",
            "219/219 [==============================] - 2s 9ms/step - loss: 1.0814 - accuracy: 0.6120 - val_loss: 1.0076 - val_accuracy: 0.6462\n",
            "Epoch 32/500\n",
            "219/219 [==============================] - 2s 9ms/step - loss: 1.0426 - accuracy: 0.6290 - val_loss: 1.0379 - val_accuracy: 0.6419\n",
            "Epoch 33/500\n",
            "219/219 [==============================] - 2s 9ms/step - loss: 1.0191 - accuracy: 0.6415 - val_loss: 1.0049 - val_accuracy: 0.6442\n",
            "Epoch 34/500\n",
            "219/219 [==============================] - 2s 9ms/step - loss: 1.0041 - accuracy: 0.6478 - val_loss: 0.9168 - val_accuracy: 0.6756\n",
            "Epoch 35/500\n",
            "219/219 [==============================] - 2s 9ms/step - loss: 1.0025 - accuracy: 0.6495 - val_loss: 0.8834 - val_accuracy: 0.6856\n",
            "Epoch 36/500\n",
            "219/219 [==============================] - 2s 9ms/step - loss: 0.9860 - accuracy: 0.6551 - val_loss: 0.8910 - val_accuracy: 0.6819\n",
            "Epoch 37/500\n",
            "219/219 [==============================] - 2s 9ms/step - loss: 0.9729 - accuracy: 0.6612 - val_loss: 0.8454 - val_accuracy: 0.7036\n",
            "Epoch 38/500\n",
            "219/219 [==============================] - 2s 9ms/step - loss: 0.9449 - accuracy: 0.6654 - val_loss: 0.8182 - val_accuracy: 0.7156\n",
            "Epoch 39/500\n",
            "219/219 [==============================] - 2s 10ms/step - loss: 0.9308 - accuracy: 0.6757 - val_loss: 0.8641 - val_accuracy: 0.6979\n",
            "Epoch 40/500\n",
            "219/219 [==============================] - 2s 9ms/step - loss: 0.9124 - accuracy: 0.6794 - val_loss: 0.8450 - val_accuracy: 0.7146\n",
            "Epoch 41/500\n",
            "219/219 [==============================] - 2s 9ms/step - loss: 0.9166 - accuracy: 0.6854 - val_loss: 0.8004 - val_accuracy: 0.7260\n",
            "Epoch 42/500\n",
            "219/219 [==============================] - 2s 9ms/step - loss: 0.9197 - accuracy: 0.6825 - val_loss: 0.7774 - val_accuracy: 0.7303\n",
            "Epoch 43/500\n",
            "219/219 [==============================] - 2s 9ms/step - loss: 0.8847 - accuracy: 0.6983 - val_loss: 0.8189 - val_accuracy: 0.7130\n",
            "Epoch 44/500\n",
            "219/219 [==============================] - 2s 9ms/step - loss: 0.8656 - accuracy: 0.6983 - val_loss: 0.8639 - val_accuracy: 0.7003\n",
            "Epoch 45/500\n",
            "219/219 [==============================] - 2s 9ms/step - loss: 0.8490 - accuracy: 0.7049 - val_loss: 0.8546 - val_accuracy: 0.7113\n",
            "Epoch 46/500\n",
            "219/219 [==============================] - 2s 9ms/step - loss: 0.8345 - accuracy: 0.7083 - val_loss: 0.7650 - val_accuracy: 0.7270\n",
            "Epoch 47/500\n",
            "219/219 [==============================] - 2s 9ms/step - loss: 0.8404 - accuracy: 0.7100 - val_loss: 0.7603 - val_accuracy: 0.7390\n",
            "Epoch 48/500\n",
            "219/219 [==============================] - 2s 9ms/step - loss: 0.8275 - accuracy: 0.7132 - val_loss: 0.7847 - val_accuracy: 0.7296\n",
            "Epoch 49/500\n",
            "219/219 [==============================] - 2s 9ms/step - loss: 0.8074 - accuracy: 0.7219 - val_loss: 0.6840 - val_accuracy: 0.7603\n",
            "Epoch 50/500\n",
            "219/219 [==============================] - 2s 9ms/step - loss: 0.8025 - accuracy: 0.7253 - val_loss: 0.7220 - val_accuracy: 0.7493\n",
            "Epoch 51/500\n",
            "219/219 [==============================] - 2s 9ms/step - loss: 0.7928 - accuracy: 0.7312 - val_loss: 0.7657 - val_accuracy: 0.7356\n",
            "Epoch 52/500\n",
            "219/219 [==============================] - 2s 9ms/step - loss: 0.7795 - accuracy: 0.7336 - val_loss: 0.6802 - val_accuracy: 0.7600\n",
            "Epoch 53/500\n",
            "219/219 [==============================] - 2s 9ms/step - loss: 0.7813 - accuracy: 0.7266 - val_loss: 0.6659 - val_accuracy: 0.7754\n",
            "Epoch 54/500\n",
            "219/219 [==============================] - 2s 9ms/step - loss: 0.7630 - accuracy: 0.7340 - val_loss: 0.7435 - val_accuracy: 0.7453\n",
            "Epoch 55/500\n",
            "219/219 [==============================] - 2s 9ms/step - loss: 0.7516 - accuracy: 0.7501 - val_loss: 0.7564 - val_accuracy: 0.7440\n",
            "Epoch 56/500\n",
            "219/219 [==============================] - 2s 9ms/step - loss: 0.7488 - accuracy: 0.7426 - val_loss: 0.7546 - val_accuracy: 0.7460\n",
            "Epoch 57/500\n",
            "219/219 [==============================] - 2s 9ms/step - loss: 0.7367 - accuracy: 0.7495 - val_loss: 0.6585 - val_accuracy: 0.7737\n",
            "Epoch 58/500\n",
            "219/219 [==============================] - 2s 9ms/step - loss: 0.7138 - accuracy: 0.7554 - val_loss: 0.6681 - val_accuracy: 0.7744\n",
            "Epoch 59/500\n",
            "219/219 [==============================] - 2s 9ms/step - loss: 0.7015 - accuracy: 0.7631 - val_loss: 0.6401 - val_accuracy: 0.7814\n",
            "Epoch 60/500\n",
            "219/219 [==============================] - 2s 9ms/step - loss: 0.7070 - accuracy: 0.7588 - val_loss: 0.6506 - val_accuracy: 0.7787\n",
            "Epoch 61/500\n",
            "219/219 [==============================] - 2s 9ms/step - loss: 0.6943 - accuracy: 0.7619 - val_loss: 0.6859 - val_accuracy: 0.7687\n",
            "Epoch 62/500\n",
            "219/219 [==============================] - 2s 9ms/step - loss: 0.6787 - accuracy: 0.7677 - val_loss: 0.5973 - val_accuracy: 0.7901\n",
            "Epoch 63/500\n",
            "219/219 [==============================] - 2s 9ms/step - loss: 0.7033 - accuracy: 0.7660 - val_loss: 0.5677 - val_accuracy: 0.8034\n",
            "Epoch 64/500\n",
            "219/219 [==============================] - 2s 9ms/step - loss: 0.6754 - accuracy: 0.7732 - val_loss: 0.6389 - val_accuracy: 0.7800\n",
            "Epoch 65/500\n",
            "219/219 [==============================] - 2s 9ms/step - loss: 0.6718 - accuracy: 0.7680 - val_loss: 0.5707 - val_accuracy: 0.8064\n",
            "Epoch 66/500\n",
            "219/219 [==============================] - 2s 9ms/step - loss: 0.6696 - accuracy: 0.7757 - val_loss: 0.6515 - val_accuracy: 0.7827\n",
            "Epoch 67/500\n",
            "219/219 [==============================] - 2s 9ms/step - loss: 0.6409 - accuracy: 0.7835 - val_loss: 0.6141 - val_accuracy: 0.7854\n",
            "Epoch 68/500\n",
            "219/219 [==============================] - 2s 9ms/step - loss: 0.6454 - accuracy: 0.7868 - val_loss: 0.6260 - val_accuracy: 0.7810\n",
            "Epoch 69/500\n",
            "219/219 [==============================] - 2s 9ms/step - loss: 0.6346 - accuracy: 0.7828 - val_loss: 0.6907 - val_accuracy: 0.7637\n",
            "Epoch 70/500\n",
            "219/219 [==============================] - 2s 9ms/step - loss: 0.6338 - accuracy: 0.7867 - val_loss: 0.5725 - val_accuracy: 0.7997\n",
            "Epoch 71/500\n",
            "219/219 [==============================] - 2s 9ms/step - loss: 0.6361 - accuracy: 0.7821 - val_loss: 0.5279 - val_accuracy: 0.8194\n",
            "Epoch 72/500\n",
            "219/219 [==============================] - 2s 9ms/step - loss: 0.6280 - accuracy: 0.7858 - val_loss: 0.5335 - val_accuracy: 0.8168\n",
            "Epoch 73/500\n",
            "219/219 [==============================] - 2s 9ms/step - loss: 0.6192 - accuracy: 0.7873 - val_loss: 0.6442 - val_accuracy: 0.7767\n",
            "Epoch 74/500\n",
            "219/219 [==============================] - 2s 9ms/step - loss: 0.6111 - accuracy: 0.7947 - val_loss: 0.4999 - val_accuracy: 0.8264\n",
            "Epoch 75/500\n",
            "219/219 [==============================] - 2s 9ms/step - loss: 0.5923 - accuracy: 0.7973 - val_loss: 0.6322 - val_accuracy: 0.7991\n",
            "Epoch 76/500\n",
            "219/219 [==============================] - 2s 9ms/step - loss: 0.5875 - accuracy: 0.8011 - val_loss: 0.5509 - val_accuracy: 0.8124\n",
            "Epoch 77/500\n",
            "219/219 [==============================] - 2s 9ms/step - loss: 0.5856 - accuracy: 0.7984 - val_loss: 0.5833 - val_accuracy: 0.8084\n",
            "Epoch 78/500\n",
            "219/219 [==============================] - 2s 9ms/step - loss: 0.5792 - accuracy: 0.8037 - val_loss: 0.5575 - val_accuracy: 0.8134\n",
            "Epoch 79/500\n",
            "219/219 [==============================] - 2s 9ms/step - loss: 0.5693 - accuracy: 0.8102 - val_loss: 0.4871 - val_accuracy: 0.8304\n",
            "Epoch 80/500\n",
            "219/219 [==============================] - 2s 9ms/step - loss: 0.5830 - accuracy: 0.8007 - val_loss: 0.5515 - val_accuracy: 0.8087\n",
            "Epoch 81/500\n",
            "219/219 [==============================] - 2s 9ms/step - loss: 0.5671 - accuracy: 0.8062 - val_loss: 0.5209 - val_accuracy: 0.8204\n",
            "Epoch 82/500\n",
            "219/219 [==============================] - 2s 9ms/step - loss: 0.5707 - accuracy: 0.8029 - val_loss: 0.5097 - val_accuracy: 0.8234\n",
            "Epoch 83/500\n",
            "219/219 [==============================] - 2s 9ms/step - loss: 0.5715 - accuracy: 0.8067 - val_loss: 0.5577 - val_accuracy: 0.8107\n",
            "Epoch 84/500\n",
            "219/219 [==============================] - 2s 9ms/step - loss: 0.5618 - accuracy: 0.8079 - val_loss: 0.5345 - val_accuracy: 0.8204\n",
            "Epoch 85/500\n",
            "219/219 [==============================] - 2s 9ms/step - loss: 0.5389 - accuracy: 0.8175 - val_loss: 0.5273 - val_accuracy: 0.8288\n",
            "Epoch 86/500\n",
            "219/219 [==============================] - 2s 9ms/step - loss: 0.5343 - accuracy: 0.8193 - val_loss: 0.5073 - val_accuracy: 0.8371\n",
            "Epoch 87/500\n",
            "219/219 [==============================] - 2s 9ms/step - loss: 0.5396 - accuracy: 0.8196 - val_loss: 0.5363 - val_accuracy: 0.8201\n",
            "Epoch 88/500\n",
            "219/219 [==============================] - 2s 9ms/step - loss: 0.5277 - accuracy: 0.8202 - val_loss: 0.4754 - val_accuracy: 0.8421\n",
            "Epoch 89/500\n",
            "219/219 [==============================] - 2s 9ms/step - loss: 0.5252 - accuracy: 0.8237 - val_loss: 0.6194 - val_accuracy: 0.7917\n",
            "Epoch 90/500\n",
            "219/219 [==============================] - 2s 9ms/step - loss: 0.5382 - accuracy: 0.8216 - val_loss: 0.5267 - val_accuracy: 0.8184\n",
            "Epoch 91/500\n",
            "219/219 [==============================] - 2s 9ms/step - loss: 0.5168 - accuracy: 0.8229 - val_loss: 0.5360 - val_accuracy: 0.8174\n",
            "Epoch 92/500\n",
            "219/219 [==============================] - 2s 9ms/step - loss: 0.5134 - accuracy: 0.8265 - val_loss: 0.5140 - val_accuracy: 0.8298\n",
            "Epoch 93/500\n",
            "219/219 [==============================] - 2s 9ms/step - loss: 0.4899 - accuracy: 0.8316 - val_loss: 0.5709 - val_accuracy: 0.8101\n",
            "Epoch 94/500\n",
            "219/219 [==============================] - 2s 9ms/step - loss: 0.5091 - accuracy: 0.8246 - val_loss: 0.4885 - val_accuracy: 0.8418\n",
            "Epoch 95/500\n",
            "219/219 [==============================] - 2s 9ms/step - loss: 0.4917 - accuracy: 0.8382 - val_loss: 0.4467 - val_accuracy: 0.8491\n",
            "Epoch 96/500\n",
            "219/219 [==============================] - 2s 10ms/step - loss: 0.5063 - accuracy: 0.8280 - val_loss: 0.4953 - val_accuracy: 0.8301\n",
            "Epoch 97/500\n",
            "219/219 [==============================] - 2s 9ms/step - loss: 0.4744 - accuracy: 0.8375 - val_loss: 0.4463 - val_accuracy: 0.8548\n",
            "Epoch 98/500\n",
            "219/219 [==============================] - 2s 9ms/step - loss: 0.4840 - accuracy: 0.8338 - val_loss: 0.4893 - val_accuracy: 0.8411\n",
            "Epoch 99/500\n",
            "219/219 [==============================] - 2s 10ms/step - loss: 0.4769 - accuracy: 0.8352 - val_loss: 0.5412 - val_accuracy: 0.8188\n",
            "Epoch 100/500\n",
            "219/219 [==============================] - 2s 10ms/step - loss: 0.4817 - accuracy: 0.8336 - val_loss: 0.5087 - val_accuracy: 0.8398\n",
            "Epoch 101/500\n",
            "219/219 [==============================] - 2s 10ms/step - loss: 0.4763 - accuracy: 0.8396 - val_loss: 0.4427 - val_accuracy: 0.8488\n",
            "Epoch 102/500\n",
            "219/219 [==============================] - 2s 10ms/step - loss: 0.4555 - accuracy: 0.8454 - val_loss: 0.4852 - val_accuracy: 0.8395\n",
            "Epoch 103/500\n",
            "219/219 [==============================] - 2s 10ms/step - loss: 0.4523 - accuracy: 0.8436 - val_loss: 0.5308 - val_accuracy: 0.8194\n",
            "Epoch 104/500\n",
            "219/219 [==============================] - 2s 9ms/step - loss: 0.4449 - accuracy: 0.8462 - val_loss: 0.4993 - val_accuracy: 0.8331\n",
            "Epoch 105/500\n",
            "219/219 [==============================] - 2s 9ms/step - loss: 0.4476 - accuracy: 0.8501 - val_loss: 0.4232 - val_accuracy: 0.8598\n",
            "Epoch 106/500\n",
            "219/219 [==============================] - 2s 9ms/step - loss: 0.4464 - accuracy: 0.8479 - val_loss: 0.4341 - val_accuracy: 0.8495\n",
            "Epoch 107/500\n",
            "219/219 [==============================] - 2s 9ms/step - loss: 0.4383 - accuracy: 0.8502 - val_loss: 0.4810 - val_accuracy: 0.8401\n",
            "Epoch 108/500\n",
            "219/219 [==============================] - 2s 9ms/step - loss: 0.4358 - accuracy: 0.8559 - val_loss: 0.4378 - val_accuracy: 0.8538\n",
            "Epoch 109/500\n",
            "219/219 [==============================] - 2s 9ms/step - loss: 0.4500 - accuracy: 0.8501 - val_loss: 0.4611 - val_accuracy: 0.8478\n",
            "Epoch 110/500\n",
            "219/219 [==============================] - 2s 9ms/step - loss: 0.4469 - accuracy: 0.8488 - val_loss: 0.4225 - val_accuracy: 0.8611\n",
            "Epoch 111/500\n",
            "219/219 [==============================] - 2s 9ms/step - loss: 0.4300 - accuracy: 0.8539 - val_loss: 0.4084 - val_accuracy: 0.8625\n",
            "Epoch 112/500\n",
            "219/219 [==============================] - 2s 9ms/step - loss: 0.4127 - accuracy: 0.8588 - val_loss: 0.4583 - val_accuracy: 0.8505\n",
            "Epoch 113/500\n",
            "219/219 [==============================] - 2s 9ms/step - loss: 0.4159 - accuracy: 0.8591 - val_loss: 0.4752 - val_accuracy: 0.8358\n",
            "Epoch 114/500\n",
            "219/219 [==============================] - 2s 9ms/step - loss: 0.4113 - accuracy: 0.8622 - val_loss: 0.5551 - val_accuracy: 0.8198\n",
            "Epoch 115/500\n",
            "219/219 [==============================] - 2s 9ms/step - loss: 0.4032 - accuracy: 0.8641 - val_loss: 0.4499 - val_accuracy: 0.8501\n",
            "Epoch 116/500\n",
            "219/219 [==============================] - 2s 9ms/step - loss: 0.4235 - accuracy: 0.8572 - val_loss: 0.4238 - val_accuracy: 0.8632\n",
            "Epoch 117/500\n",
            "219/219 [==============================] - 2s 9ms/step - loss: 0.4065 - accuracy: 0.8587 - val_loss: 0.4040 - val_accuracy: 0.8625\n",
            "Epoch 118/500\n",
            "219/219 [==============================] - 2s 9ms/step - loss: 0.3987 - accuracy: 0.8604 - val_loss: 0.4179 - val_accuracy: 0.8605\n",
            "Epoch 119/500\n",
            "219/219 [==============================] - 2s 9ms/step - loss: 0.3988 - accuracy: 0.8655 - val_loss: 0.4238 - val_accuracy: 0.8575\n",
            "Epoch 120/500\n",
            "219/219 [==============================] - 2s 9ms/step - loss: 0.4014 - accuracy: 0.8678 - val_loss: 0.4542 - val_accuracy: 0.8525\n",
            "Epoch 121/500\n",
            "219/219 [==============================] - 2s 9ms/step - loss: 0.3956 - accuracy: 0.8645 - val_loss: 0.4486 - val_accuracy: 0.8531\n",
            "Epoch 122/500\n",
            "219/219 [==============================] - 2s 9ms/step - loss: 0.3922 - accuracy: 0.8697 - val_loss: 0.4645 - val_accuracy: 0.8458\n",
            "Epoch 123/500\n",
            "219/219 [==============================] - 2s 9ms/step - loss: 0.3916 - accuracy: 0.8641 - val_loss: 0.4611 - val_accuracy: 0.8431\n",
            "Epoch 124/500\n",
            "219/219 [==============================] - 2s 9ms/step - loss: 0.3802 - accuracy: 0.8675 - val_loss: 0.4801 - val_accuracy: 0.8415\n",
            "Epoch 125/500\n",
            "219/219 [==============================] - 2s 9ms/step - loss: 0.3766 - accuracy: 0.8745 - val_loss: 0.4614 - val_accuracy: 0.8478\n",
            "Epoch 126/500\n",
            "219/219 [==============================] - 2s 9ms/step - loss: 0.3635 - accuracy: 0.8780 - val_loss: 0.4027 - val_accuracy: 0.8638\n",
            "Epoch 127/500\n",
            "219/219 [==============================] - 2s 9ms/step - loss: 0.3777 - accuracy: 0.8751 - val_loss: 0.3704 - val_accuracy: 0.8812\n",
            "Epoch 128/500\n",
            "219/219 [==============================] - 2s 9ms/step - loss: 0.3718 - accuracy: 0.8771 - val_loss: 0.4275 - val_accuracy: 0.8578\n",
            "Epoch 129/500\n",
            "219/219 [==============================] - 2s 9ms/step - loss: 0.3701 - accuracy: 0.8765 - val_loss: 0.4298 - val_accuracy: 0.8615\n",
            "Epoch 130/500\n",
            "219/219 [==============================] - 2s 9ms/step - loss: 0.3823 - accuracy: 0.8722 - val_loss: 0.4560 - val_accuracy: 0.8515\n",
            "Epoch 131/500\n",
            "219/219 [==============================] - 2s 9ms/step - loss: 0.3730 - accuracy: 0.8731 - val_loss: 0.4203 - val_accuracy: 0.8648\n",
            "Epoch 132/500\n",
            "219/219 [==============================] - 2s 9ms/step - loss: 0.3656 - accuracy: 0.8764 - val_loss: 0.4141 - val_accuracy: 0.8595\n",
            "Epoch 133/500\n",
            "219/219 [==============================] - 2s 9ms/step - loss: 0.3518 - accuracy: 0.8793 - val_loss: 0.4345 - val_accuracy: 0.8528\n",
            "Epoch 134/500\n",
            "219/219 [==============================] - 2s 9ms/step - loss: 0.3546 - accuracy: 0.8797 - val_loss: 0.3930 - val_accuracy: 0.8692\n",
            "Epoch 135/500\n",
            "219/219 [==============================] - 2s 9ms/step - loss: 0.3594 - accuracy: 0.8790 - val_loss: 0.4614 - val_accuracy: 0.8485\n",
            "Epoch 136/500\n",
            "219/219 [==============================] - 2s 9ms/step - loss: 0.3392 - accuracy: 0.8824 - val_loss: 0.4621 - val_accuracy: 0.8478\n",
            "Epoch 137/500\n",
            "219/219 [==============================] - 2s 9ms/step - loss: 0.3466 - accuracy: 0.8844 - val_loss: 0.3928 - val_accuracy: 0.8712\n",
            "Epoch 138/500\n",
            "219/219 [==============================] - 2s 9ms/step - loss: 0.3345 - accuracy: 0.8817 - val_loss: 0.4779 - val_accuracy: 0.8465\n",
            "Epoch 139/500\n",
            "219/219 [==============================] - 2s 9ms/step - loss: 0.3477 - accuracy: 0.8824 - val_loss: 0.4084 - val_accuracy: 0.8642\n",
            "Epoch 140/500\n",
            "219/219 [==============================] - 2s 9ms/step - loss: 0.3315 - accuracy: 0.8838 - val_loss: 0.4205 - val_accuracy: 0.8628\n",
            "Epoch 141/500\n",
            "219/219 [==============================] - 2s 9ms/step - loss: 0.3436 - accuracy: 0.8856 - val_loss: 0.4339 - val_accuracy: 0.8585\n",
            "Epoch 142/500\n",
            "219/219 [==============================] - 2s 9ms/step - loss: 0.3381 - accuracy: 0.8861 - val_loss: 0.4988 - val_accuracy: 0.8428\n",
            "Epoch 143/500\n",
            "219/219 [==============================] - 2s 9ms/step - loss: 0.3410 - accuracy: 0.8831 - val_loss: 0.3987 - val_accuracy: 0.8685\n",
            "Epoch 144/500\n",
            "219/219 [==============================] - 2s 9ms/step - loss: 0.3209 - accuracy: 0.8900 - val_loss: 0.4245 - val_accuracy: 0.8638\n",
            "Epoch 145/500\n",
            "219/219 [==============================] - 2s 9ms/step - loss: 0.3354 - accuracy: 0.8868 - val_loss: 0.4257 - val_accuracy: 0.8675\n",
            "Epoch 146/500\n",
            "219/219 [==============================] - 2s 9ms/step - loss: 0.3105 - accuracy: 0.8937 - val_loss: 0.3779 - val_accuracy: 0.8802\n",
            "Epoch 147/500\n",
            "219/219 [==============================] - 2s 9ms/step - loss: 0.3261 - accuracy: 0.8881 - val_loss: 0.3865 - val_accuracy: 0.8745\n",
            "Epoch 148/500\n",
            "219/219 [==============================] - 2s 9ms/step - loss: 0.3317 - accuracy: 0.8893 - val_loss: 0.4437 - val_accuracy: 0.8511\n",
            "Epoch 149/500\n",
            "219/219 [==============================] - 2s 9ms/step - loss: 0.3157 - accuracy: 0.8969 - val_loss: 0.3955 - val_accuracy: 0.8678\n",
            "Epoch 150/500\n",
            "219/219 [==============================] - 2s 9ms/step - loss: 0.3127 - accuracy: 0.8989 - val_loss: 0.3704 - val_accuracy: 0.8815\n",
            "Epoch 151/500\n",
            "219/219 [==============================] - 2s 9ms/step - loss: 0.3260 - accuracy: 0.8894 - val_loss: 0.3824 - val_accuracy: 0.8748\n",
            "Epoch 152/500\n",
            "219/219 [==============================] - 2s 9ms/step - loss: 0.3045 - accuracy: 0.8991 - val_loss: 0.4831 - val_accuracy: 0.8498\n",
            "Epoch 153/500\n",
            "219/219 [==============================] - 2s 9ms/step - loss: 0.2919 - accuracy: 0.9017 - val_loss: 0.3891 - val_accuracy: 0.8802\n",
            "Epoch 154/500\n",
            "219/219 [==============================] - 2s 10ms/step - loss: 0.3224 - accuracy: 0.8923 - val_loss: 0.3952 - val_accuracy: 0.8722\n",
            "Epoch 155/500\n",
            "219/219 [==============================] - 2s 9ms/step - loss: 0.3149 - accuracy: 0.8940 - val_loss: 0.3524 - val_accuracy: 0.8852\n",
            "Epoch 156/500\n",
            "219/219 [==============================] - 2s 9ms/step - loss: 0.2902 - accuracy: 0.9026 - val_loss: 0.3755 - val_accuracy: 0.8752\n",
            "Epoch 157/500\n",
            "219/219 [==============================] - 2s 9ms/step - loss: 0.3066 - accuracy: 0.8931 - val_loss: 0.4822 - val_accuracy: 0.8441\n",
            "Epoch 158/500\n",
            "219/219 [==============================] - 2s 9ms/step - loss: 0.2901 - accuracy: 0.9062 - val_loss: 0.3896 - val_accuracy: 0.8782\n",
            "Epoch 159/500\n",
            "219/219 [==============================] - 2s 9ms/step - loss: 0.3100 - accuracy: 0.8936 - val_loss: 0.3931 - val_accuracy: 0.8735\n",
            "Epoch 160/500\n",
            "219/219 [==============================] - 2s 9ms/step - loss: 0.2996 - accuracy: 0.9007 - val_loss: 0.3743 - val_accuracy: 0.8812\n",
            "Epoch 161/500\n",
            "219/219 [==============================] - 2s 9ms/step - loss: 0.2930 - accuracy: 0.9010 - val_loss: 0.3538 - val_accuracy: 0.8865\n",
            "Epoch 162/500\n",
            "219/219 [==============================] - 2s 9ms/step - loss: 0.2968 - accuracy: 0.8999 - val_loss: 0.4092 - val_accuracy: 0.8755\n",
            "Epoch 163/500\n",
            "219/219 [==============================] - 2s 9ms/step - loss: 0.2897 - accuracy: 0.9007 - val_loss: 0.3797 - val_accuracy: 0.8812\n",
            "Epoch 164/500\n",
            "219/219 [==============================] - 2s 9ms/step - loss: 0.2884 - accuracy: 0.9027 - val_loss: 0.3991 - val_accuracy: 0.8748\n",
            "Epoch 165/500\n",
            "219/219 [==============================] - 2s 9ms/step - loss: 0.2819 - accuracy: 0.9040 - val_loss: 0.4477 - val_accuracy: 0.8575\n",
            "Epoch 166/500\n",
            "219/219 [==============================] - 2s 9ms/step - loss: 0.2860 - accuracy: 0.9066 - val_loss: 0.4039 - val_accuracy: 0.8768\n",
            "Epoch 167/500\n",
            "219/219 [==============================] - 2s 9ms/step - loss: 0.2811 - accuracy: 0.9056 - val_loss: 0.4076 - val_accuracy: 0.8695\n",
            "Epoch 168/500\n",
            "219/219 [==============================] - 2s 9ms/step - loss: 0.2596 - accuracy: 0.9133 - val_loss: 0.3730 - val_accuracy: 0.8788\n",
            "Epoch 169/500\n",
            "219/219 [==============================] - 2s 9ms/step - loss: 0.2729 - accuracy: 0.9054 - val_loss: 0.3753 - val_accuracy: 0.8889\n",
            "Epoch 170/500\n",
            "219/219 [==============================] - 2s 9ms/step - loss: 0.2772 - accuracy: 0.9076 - val_loss: 0.3877 - val_accuracy: 0.8762\n",
            "Epoch 171/500\n",
            "219/219 [==============================] - 2s 10ms/step - loss: 0.2628 - accuracy: 0.9093 - val_loss: 0.3900 - val_accuracy: 0.8738\n",
            "Epoch 172/500\n",
            "219/219 [==============================] - 2s 10ms/step - loss: 0.2779 - accuracy: 0.9054 - val_loss: 0.3854 - val_accuracy: 0.8705\n",
            "Epoch 173/500\n",
            "219/219 [==============================] - 2s 10ms/step - loss: 0.2737 - accuracy: 0.9067 - val_loss: 0.4050 - val_accuracy: 0.8762\n",
            "Epoch 174/500\n",
            "219/219 [==============================] - 2s 10ms/step - loss: 0.2758 - accuracy: 0.9087 - val_loss: 0.3818 - val_accuracy: 0.8805\n",
            "Epoch 175/500\n",
            "219/219 [==============================] - 2s 10ms/step - loss: 0.2736 - accuracy: 0.9087 - val_loss: 0.3867 - val_accuracy: 0.8785\n",
            "Epoch 176/500\n",
            "219/219 [==============================] - 2s 9ms/step - loss: 0.2683 - accuracy: 0.9094 - val_loss: 0.3391 - val_accuracy: 0.8905\n",
            "Epoch 177/500\n",
            "219/219 [==============================] - 2s 9ms/step - loss: 0.2666 - accuracy: 0.9079 - val_loss: 0.3801 - val_accuracy: 0.8795\n",
            "Epoch 178/500\n",
            "219/219 [==============================] - 2s 9ms/step - loss: 0.2738 - accuracy: 0.9070 - val_loss: 0.3731 - val_accuracy: 0.8802\n",
            "Epoch 179/500\n",
            "219/219 [==============================] - 2s 9ms/step - loss: 0.2708 - accuracy: 0.9084 - val_loss: 0.4454 - val_accuracy: 0.8561\n",
            "Epoch 180/500\n",
            "219/219 [==============================] - 2s 9ms/step - loss: 0.2796 - accuracy: 0.9034 - val_loss: 0.3622 - val_accuracy: 0.8885\n",
            "Epoch 181/500\n",
            "219/219 [==============================] - 2s 9ms/step - loss: 0.2611 - accuracy: 0.9082 - val_loss: 0.3624 - val_accuracy: 0.8842\n",
            "Epoch 182/500\n",
            "219/219 [==============================] - 2s 9ms/step - loss: 0.2712 - accuracy: 0.9103 - val_loss: 0.3610 - val_accuracy: 0.8818\n",
            "Epoch 183/500\n",
            "219/219 [==============================] - 2s 9ms/step - loss: 0.2578 - accuracy: 0.9147 - val_loss: 0.4208 - val_accuracy: 0.8655\n",
            "Epoch 184/500\n",
            "219/219 [==============================] - 2s 9ms/step - loss: 0.2698 - accuracy: 0.9093 - val_loss: 0.3518 - val_accuracy: 0.8842\n",
            "Epoch 185/500\n",
            "219/219 [==============================] - 2s 10ms/step - loss: 0.2454 - accuracy: 0.9185 - val_loss: 0.3490 - val_accuracy: 0.8865\n",
            "Epoch 186/500\n",
            "219/219 [==============================] - 2s 10ms/step - loss: 0.2501 - accuracy: 0.9136 - val_loss: 0.3638 - val_accuracy: 0.8885\n",
            "Epoch 187/500\n",
            "219/219 [==============================] - 2s 10ms/step - loss: 0.2519 - accuracy: 0.9120 - val_loss: 0.3885 - val_accuracy: 0.8792\n",
            "Epoch 188/500\n",
            "219/219 [==============================] - 2s 10ms/step - loss: 0.2406 - accuracy: 0.9180 - val_loss: 0.3779 - val_accuracy: 0.8812\n",
            "Epoch 189/500\n",
            "219/219 [==============================] - 2s 9ms/step - loss: 0.2422 - accuracy: 0.9200 - val_loss: 0.4055 - val_accuracy: 0.8745\n",
            "Epoch 190/500\n",
            "219/219 [==============================] - 2s 10ms/step - loss: 0.2376 - accuracy: 0.9189 - val_loss: 0.4149 - val_accuracy: 0.8705\n",
            "Epoch 191/500\n",
            "219/219 [==============================] - 2s 9ms/step - loss: 0.2443 - accuracy: 0.9149 - val_loss: 0.4457 - val_accuracy: 0.8685\n",
            "Epoch 192/500\n",
            "219/219 [==============================] - 2s 9ms/step - loss: 0.2504 - accuracy: 0.9159 - val_loss: 0.4076 - val_accuracy: 0.8692\n",
            "Epoch 193/500\n",
            "219/219 [==============================] - 2s 10ms/step - loss: 0.2512 - accuracy: 0.9162 - val_loss: 0.3663 - val_accuracy: 0.8895\n",
            "Epoch 194/500\n",
            "219/219 [==============================] - 2s 9ms/step - loss: 0.2359 - accuracy: 0.9229 - val_loss: 0.3922 - val_accuracy: 0.8775\n",
            "Epoch 195/500\n",
            "219/219 [==============================] - 2s 10ms/step - loss: 0.2265 - accuracy: 0.9213 - val_loss: 0.3912 - val_accuracy: 0.8785\n",
            "Epoch 196/500\n",
            "219/219 [==============================] - 2s 9ms/step - loss: 0.2495 - accuracy: 0.9200 - val_loss: 0.3998 - val_accuracy: 0.8765\n",
            "Epoch 197/500\n",
            "219/219 [==============================] - 2s 9ms/step - loss: 0.2250 - accuracy: 0.9247 - val_loss: 0.3896 - val_accuracy: 0.8758\n",
            "Epoch 198/500\n",
            "219/219 [==============================] - 2s 9ms/step - loss: 0.2426 - accuracy: 0.9202 - val_loss: 0.3846 - val_accuracy: 0.8802\n",
            "Epoch 199/500\n",
            "219/219 [==============================] - 2s 10ms/step - loss: 0.2296 - accuracy: 0.9205 - val_loss: 0.3523 - val_accuracy: 0.8909\n",
            "Epoch 200/500\n",
            "219/219 [==============================] - 2s 10ms/step - loss: 0.2206 - accuracy: 0.9269 - val_loss: 0.3686 - val_accuracy: 0.8899\n",
            "Epoch 201/500\n",
            "219/219 [==============================] - 2s 10ms/step - loss: 0.2237 - accuracy: 0.9272 - val_loss: 0.3660 - val_accuracy: 0.8848\n",
            "Epoch 202/500\n",
            "219/219 [==============================] - 2s 10ms/step - loss: 0.2313 - accuracy: 0.9212 - val_loss: 0.3861 - val_accuracy: 0.8815\n",
            "Epoch 203/500\n",
            "219/219 [==============================] - 2s 9ms/step - loss: 0.2300 - accuracy: 0.9205 - val_loss: 0.3645 - val_accuracy: 0.8875\n",
            "Epoch 204/500\n",
            "219/219 [==============================] - 2s 9ms/step - loss: 0.2307 - accuracy: 0.9207 - val_loss: 0.3817 - val_accuracy: 0.8852\n",
            "Epoch 205/500\n",
            "219/219 [==============================] - 2s 10ms/step - loss: 0.2256 - accuracy: 0.9205 - val_loss: 0.3977 - val_accuracy: 0.8788\n",
            "Epoch 206/500\n",
            "219/219 [==============================] - 2s 10ms/step - loss: 0.2324 - accuracy: 0.9245 - val_loss: 0.3701 - val_accuracy: 0.8902\n",
            "Epoch 207/500\n",
            "219/219 [==============================] - 2s 9ms/step - loss: 0.2225 - accuracy: 0.9246 - val_loss: 0.4340 - val_accuracy: 0.8618\n",
            "Epoch 208/500\n",
            "219/219 [==============================] - 2s 10ms/step - loss: 0.2210 - accuracy: 0.9246 - val_loss: 0.3918 - val_accuracy: 0.8788\n",
            "Epoch 209/500\n",
            "219/219 [==============================] - 2s 10ms/step - loss: 0.2313 - accuracy: 0.9190 - val_loss: 0.3377 - val_accuracy: 0.8942\n",
            "Epoch 210/500\n",
            "219/219 [==============================] - 2s 10ms/step - loss: 0.2295 - accuracy: 0.9250 - val_loss: 0.3543 - val_accuracy: 0.8862\n",
            "Epoch 211/500\n",
            "219/219 [==============================] - 2s 10ms/step - loss: 0.2143 - accuracy: 0.9299 - val_loss: 0.3858 - val_accuracy: 0.8832\n",
            "Epoch 212/500\n",
            "219/219 [==============================] - 2s 10ms/step - loss: 0.2220 - accuracy: 0.9252 - val_loss: 0.3464 - val_accuracy: 0.8895\n",
            "Epoch 213/500\n",
            "219/219 [==============================] - 2s 9ms/step - loss: 0.2137 - accuracy: 0.9293 - val_loss: 0.3375 - val_accuracy: 0.8932\n",
            "Epoch 214/500\n",
            "219/219 [==============================] - 2s 10ms/step - loss: 0.2098 - accuracy: 0.9340 - val_loss: 0.3505 - val_accuracy: 0.8915\n",
            "Epoch 215/500\n",
            "219/219 [==============================] - 2s 10ms/step - loss: 0.2116 - accuracy: 0.9302 - val_loss: 0.3465 - val_accuracy: 0.8925\n",
            "Epoch 216/500\n",
            "219/219 [==============================] - 2s 10ms/step - loss: 0.2103 - accuracy: 0.9296 - val_loss: 0.3846 - val_accuracy: 0.8865\n",
            "Epoch 217/500\n",
            "219/219 [==============================] - 2s 10ms/step - loss: 0.2150 - accuracy: 0.9269 - val_loss: 0.3494 - val_accuracy: 0.8902\n",
            "Epoch 218/500\n",
            "219/219 [==============================] - 2s 10ms/step - loss: 0.2105 - accuracy: 0.9272 - val_loss: 0.3446 - val_accuracy: 0.8952\n",
            "Epoch 219/500\n",
            "219/219 [==============================] - 2s 10ms/step - loss: 0.2078 - accuracy: 0.9308 - val_loss: 0.4237 - val_accuracy: 0.8698\n",
            "Epoch 220/500\n",
            "219/219 [==============================] - 2s 9ms/step - loss: 0.2090 - accuracy: 0.9290 - val_loss: 0.3491 - val_accuracy: 0.8952\n",
            "Epoch 221/500\n",
            "219/219 [==============================] - 2s 10ms/step - loss: 0.2029 - accuracy: 0.9310 - val_loss: 0.3558 - val_accuracy: 0.8895\n",
            "Epoch 222/500\n",
            "219/219 [==============================] - 2s 9ms/step - loss: 0.2028 - accuracy: 0.9313 - val_loss: 0.3912 - val_accuracy: 0.8822\n",
            "Epoch 223/500\n",
            "219/219 [==============================] - 2s 9ms/step - loss: 0.2097 - accuracy: 0.9266 - val_loss: 0.3515 - val_accuracy: 0.8979\n",
            "Epoch 224/500\n",
            "219/219 [==============================] - 2s 10ms/step - loss: 0.2111 - accuracy: 0.9296 - val_loss: 0.3402 - val_accuracy: 0.8949\n",
            "Epoch 225/500\n",
            "219/219 [==============================] - 2s 9ms/step - loss: 0.2016 - accuracy: 0.9338 - val_loss: 0.3440 - val_accuracy: 0.8945\n",
            "Epoch 226/500\n",
            "219/219 [==============================] - 2s 9ms/step - loss: 0.2091 - accuracy: 0.9285 - val_loss: 0.3495 - val_accuracy: 0.8949\n",
            "Epoch 227/500\n",
            "219/219 [==============================] - 2s 9ms/step - loss: 0.2027 - accuracy: 0.9310 - val_loss: 0.3655 - val_accuracy: 0.8889\n",
            "Epoch 228/500\n",
            "219/219 [==============================] - 2s 10ms/step - loss: 0.1917 - accuracy: 0.9392 - val_loss: 0.3332 - val_accuracy: 0.8992\n",
            "Epoch 229/500\n",
            "219/219 [==============================] - 2s 9ms/step - loss: 0.1960 - accuracy: 0.9328 - val_loss: 0.3884 - val_accuracy: 0.8825\n",
            "Epoch 230/500\n",
            "219/219 [==============================] - 2s 10ms/step - loss: 0.1979 - accuracy: 0.9309 - val_loss: 0.3875 - val_accuracy: 0.8885\n",
            "Epoch 231/500\n",
            "219/219 [==============================] - 2s 10ms/step - loss: 0.2094 - accuracy: 0.9285 - val_loss: 0.3647 - val_accuracy: 0.8882\n",
            "Epoch 232/500\n",
            "219/219 [==============================] - 2s 10ms/step - loss: 0.1945 - accuracy: 0.9342 - val_loss: 0.4915 - val_accuracy: 0.8578\n",
            "Epoch 233/500\n",
            "219/219 [==============================] - 2s 9ms/step - loss: 0.2004 - accuracy: 0.9336 - val_loss: 0.3412 - val_accuracy: 0.8975\n",
            "Epoch 234/500\n",
            "219/219 [==============================] - 2s 9ms/step - loss: 0.2032 - accuracy: 0.9352 - val_loss: 0.3753 - val_accuracy: 0.8889\n",
            "Epoch 235/500\n",
            "219/219 [==============================] - 2s 10ms/step - loss: 0.1902 - accuracy: 0.9368 - val_loss: 0.3502 - val_accuracy: 0.8932\n",
            "Epoch 236/500\n",
            "219/219 [==============================] - 2s 9ms/step - loss: 0.1903 - accuracy: 0.9401 - val_loss: 0.3524 - val_accuracy: 0.8935\n",
            "Epoch 237/500\n",
            "219/219 [==============================] - 2s 10ms/step - loss: 0.1953 - accuracy: 0.9356 - val_loss: 0.3617 - val_accuracy: 0.8939\n",
            "Epoch 238/500\n",
            "219/219 [==============================] - 2s 9ms/step - loss: 0.1989 - accuracy: 0.9342 - val_loss: 0.3390 - val_accuracy: 0.8965\n",
            "Epoch 239/500\n",
            "219/219 [==============================] - 2s 9ms/step - loss: 0.1986 - accuracy: 0.9361 - val_loss: 0.3530 - val_accuracy: 0.8895\n",
            "Epoch 240/500\n",
            "219/219 [==============================] - 2s 9ms/step - loss: 0.1911 - accuracy: 0.9363 - val_loss: 0.3587 - val_accuracy: 0.8899\n",
            "Epoch 241/500\n",
            "219/219 [==============================] - 2s 9ms/step - loss: 0.1958 - accuracy: 0.9345 - val_loss: 0.4205 - val_accuracy: 0.8725\n",
            "Epoch 242/500\n",
            "219/219 [==============================] - 2s 9ms/step - loss: 0.1857 - accuracy: 0.9373 - val_loss: 0.3401 - val_accuracy: 0.8949\n",
            "Epoch 243/500\n",
            "219/219 [==============================] - 2s 10ms/step - loss: 0.1849 - accuracy: 0.9391 - val_loss: 0.3995 - val_accuracy: 0.8822\n",
            "Epoch 244/500\n",
            "219/219 [==============================] - 2s 10ms/step - loss: 0.1836 - accuracy: 0.9376 - val_loss: 0.3647 - val_accuracy: 0.8868\n",
            "Epoch 245/500\n",
            "219/219 [==============================] - 2s 10ms/step - loss: 0.1979 - accuracy: 0.9338 - val_loss: 0.4471 - val_accuracy: 0.8585\n",
            "Epoch 246/500\n",
            "219/219 [==============================] - 2s 10ms/step - loss: 0.1711 - accuracy: 0.9401 - val_loss: 0.3789 - val_accuracy: 0.8879\n",
            "Epoch 247/500\n",
            "219/219 [==============================] - 2s 10ms/step - loss: 0.1764 - accuracy: 0.9401 - val_loss: 0.3427 - val_accuracy: 0.8922\n",
            "Epoch 248/500\n",
            "219/219 [==============================] - 2s 10ms/step - loss: 0.1855 - accuracy: 0.9385 - val_loss: 0.3562 - val_accuracy: 0.8929\n",
            "Epoch 249/500\n",
            "219/219 [==============================] - 2s 10ms/step - loss: 0.1772 - accuracy: 0.9409 - val_loss: 0.3946 - val_accuracy: 0.8832\n",
            "Epoch 250/500\n",
            "219/219 [==============================] - 2s 10ms/step - loss: 0.1787 - accuracy: 0.9398 - val_loss: 0.4355 - val_accuracy: 0.8735\n",
            "Epoch 251/500\n",
            "219/219 [==============================] - 2s 10ms/step - loss: 0.1942 - accuracy: 0.9368 - val_loss: 0.3939 - val_accuracy: 0.8812\n",
            "Epoch 252/500\n",
            "219/219 [==============================] - 2s 10ms/step - loss: 0.1772 - accuracy: 0.9454 - val_loss: 0.3596 - val_accuracy: 0.8935\n",
            "Epoch 253/500\n",
            "219/219 [==============================] - 2s 10ms/step - loss: 0.1691 - accuracy: 0.9439 - val_loss: 0.3376 - val_accuracy: 0.9022\n",
            "Epoch 254/500\n",
            "219/219 [==============================] - 2s 9ms/step - loss: 0.1768 - accuracy: 0.9423 - val_loss: 0.3788 - val_accuracy: 0.8902\n",
            "Epoch 255/500\n",
            "219/219 [==============================] - 2s 9ms/step - loss: 0.1811 - accuracy: 0.9396 - val_loss: 0.3947 - val_accuracy: 0.8808\n",
            "Epoch 256/500\n",
            "219/219 [==============================] - 2s 9ms/step - loss: 0.1834 - accuracy: 0.9371 - val_loss: 0.3121 - val_accuracy: 0.9022\n",
            "Epoch 257/500\n",
            "219/219 [==============================] - 2s 10ms/step - loss: 0.1843 - accuracy: 0.9345 - val_loss: 0.3861 - val_accuracy: 0.8895\n",
            "Epoch 258/500\n",
            "219/219 [==============================] - 2s 10ms/step - loss: 0.1835 - accuracy: 0.9418 - val_loss: 0.3216 - val_accuracy: 0.9045\n",
            "Epoch 259/500\n",
            "219/219 [==============================] - 2s 10ms/step - loss: 0.1696 - accuracy: 0.9413 - val_loss: 0.4281 - val_accuracy: 0.8758\n",
            "Epoch 260/500\n",
            "219/219 [==============================] - 2s 10ms/step - loss: 0.1741 - accuracy: 0.9402 - val_loss: 0.3882 - val_accuracy: 0.8838\n",
            "Epoch 261/500\n",
            "219/219 [==============================] - 2s 10ms/step - loss: 0.1653 - accuracy: 0.9455 - val_loss: 0.3657 - val_accuracy: 0.8875\n",
            "Epoch 262/500\n",
            "219/219 [==============================] - 2s 10ms/step - loss: 0.1735 - accuracy: 0.9395 - val_loss: 0.4233 - val_accuracy: 0.8735\n",
            "Epoch 263/500\n",
            "219/219 [==============================] - 2s 10ms/step - loss: 0.1733 - accuracy: 0.9388 - val_loss: 0.3541 - val_accuracy: 0.8929\n",
            "Epoch 264/500\n",
            "219/219 [==============================] - 2s 10ms/step - loss: 0.1742 - accuracy: 0.9408 - val_loss: 0.3305 - val_accuracy: 0.8945\n",
            "Epoch 265/500\n",
            "219/219 [==============================] - 2s 10ms/step - loss: 0.1638 - accuracy: 0.9456 - val_loss: 0.3307 - val_accuracy: 0.8975\n",
            "Epoch 266/500\n",
            "219/219 [==============================] - 2s 10ms/step - loss: 0.1520 - accuracy: 0.9496 - val_loss: 0.3503 - val_accuracy: 0.8949\n",
            "Epoch 267/500\n",
            "219/219 [==============================] - 2s 10ms/step - loss: 0.1722 - accuracy: 0.9403 - val_loss: 0.3719 - val_accuracy: 0.8922\n",
            "Epoch 268/500\n",
            "219/219 [==============================] - 2s 10ms/step - loss: 0.1723 - accuracy: 0.9438 - val_loss: 0.3575 - val_accuracy: 0.8945\n",
            "Epoch 269/500\n",
            "219/219 [==============================] - 2s 9ms/step - loss: 0.1722 - accuracy: 0.9401 - val_loss: 0.3595 - val_accuracy: 0.8935\n",
            "Epoch 270/500\n",
            "219/219 [==============================] - 2s 10ms/step - loss: 0.1677 - accuracy: 0.9436 - val_loss: 0.3360 - val_accuracy: 0.9029\n",
            "Epoch 271/500\n",
            "219/219 [==============================] - 2s 10ms/step - loss: 0.1698 - accuracy: 0.9433 - val_loss: 0.3492 - val_accuracy: 0.8955\n",
            "Epoch 272/500\n",
            "219/219 [==============================] - 2s 10ms/step - loss: 0.1628 - accuracy: 0.9459 - val_loss: 0.3550 - val_accuracy: 0.8902\n",
            "Epoch 273/500\n",
            "219/219 [==============================] - 2s 10ms/step - loss: 0.1488 - accuracy: 0.9501 - val_loss: 0.3630 - val_accuracy: 0.8959\n",
            "Epoch 274/500\n",
            "219/219 [==============================] - 2s 10ms/step - loss: 0.1538 - accuracy: 0.9494 - val_loss: 0.3572 - val_accuracy: 0.8932\n",
            "Epoch 275/500\n",
            "219/219 [==============================] - 2s 10ms/step - loss: 0.1730 - accuracy: 0.9408 - val_loss: 0.3418 - val_accuracy: 0.8979\n",
            "Epoch 276/500\n",
            "219/219 [==============================] - 2s 10ms/step - loss: 0.1574 - accuracy: 0.9475 - val_loss: 0.3147 - val_accuracy: 0.9049\n",
            "Epoch 277/500\n",
            "219/219 [==============================] - 2s 10ms/step - loss: 0.1663 - accuracy: 0.9421 - val_loss: 0.3767 - val_accuracy: 0.8915\n",
            "Epoch 278/500\n",
            "219/219 [==============================] - 2s 10ms/step - loss: 0.1542 - accuracy: 0.9506 - val_loss: 0.3699 - val_accuracy: 0.8942\n",
            "Epoch 279/500\n",
            "219/219 [==============================] - 2s 10ms/step - loss: 0.1649 - accuracy: 0.9429 - val_loss: 0.3381 - val_accuracy: 0.8935\n",
            "Epoch 280/500\n",
            "219/219 [==============================] - 2s 10ms/step - loss: 0.1482 - accuracy: 0.9476 - val_loss: 0.3741 - val_accuracy: 0.8892\n",
            "Epoch 281/500\n",
            "219/219 [==============================] - 2s 10ms/step - loss: 0.1669 - accuracy: 0.9435 - val_loss: 0.3626 - val_accuracy: 0.8922\n",
            "Epoch 282/500\n",
            "219/219 [==============================] - 2s 10ms/step - loss: 0.1563 - accuracy: 0.9481 - val_loss: 0.3726 - val_accuracy: 0.8912\n",
            "Epoch 283/500\n",
            "219/219 [==============================] - 2s 10ms/step - loss: 0.1637 - accuracy: 0.9448 - val_loss: 0.3728 - val_accuracy: 0.8862\n",
            "Epoch 284/500\n",
            "219/219 [==============================] - 2s 10ms/step - loss: 0.1682 - accuracy: 0.9409 - val_loss: 0.3530 - val_accuracy: 0.8942\n",
            "Epoch 285/500\n",
            "219/219 [==============================] - 2s 10ms/step - loss: 0.1547 - accuracy: 0.9485 - val_loss: 0.3438 - val_accuracy: 0.8962\n",
            "Epoch 286/500\n",
            "219/219 [==============================] - 2s 10ms/step - loss: 0.1557 - accuracy: 0.9482 - val_loss: 0.3819 - val_accuracy: 0.8862\n",
            "Epoch 287/500\n",
            "219/219 [==============================] - 2s 10ms/step - loss: 0.1522 - accuracy: 0.9488 - val_loss: 0.3325 - val_accuracy: 0.8969\n",
            "Epoch 288/500\n",
            "219/219 [==============================] - 2s 10ms/step - loss: 0.1495 - accuracy: 0.9481 - val_loss: 0.4267 - val_accuracy: 0.8765\n",
            "Epoch 289/500\n",
            "219/219 [==============================] - 2s 10ms/step - loss: 0.1420 - accuracy: 0.9528 - val_loss: 0.3686 - val_accuracy: 0.8892\n",
            "Epoch 290/500\n",
            "219/219 [==============================] - 2s 10ms/step - loss: 0.1483 - accuracy: 0.9514 - val_loss: 0.3500 - val_accuracy: 0.8925\n",
            "Epoch 291/500\n",
            "219/219 [==============================] - 2s 10ms/step - loss: 0.1453 - accuracy: 0.9515 - val_loss: 0.3249 - val_accuracy: 0.9005\n",
            "Epoch 292/500\n",
            "219/219 [==============================] - 2s 10ms/step - loss: 0.1532 - accuracy: 0.9481 - val_loss: 0.3407 - val_accuracy: 0.8969\n",
            "Epoch 293/500\n",
            "219/219 [==============================] - 2s 10ms/step - loss: 0.1556 - accuracy: 0.9472 - val_loss: 0.3876 - val_accuracy: 0.8899\n",
            "Epoch 294/500\n",
            "219/219 [==============================] - 2s 10ms/step - loss: 0.1567 - accuracy: 0.9466 - val_loss: 0.3433 - val_accuracy: 0.9052\n",
            "Epoch 295/500\n",
            "219/219 [==============================] - 2s 10ms/step - loss: 0.1441 - accuracy: 0.9506 - val_loss: 0.3398 - val_accuracy: 0.9019\n",
            "Epoch 296/500\n",
            "219/219 [==============================] - 2s 10ms/step - loss: 0.1541 - accuracy: 0.9475 - val_loss: 0.3416 - val_accuracy: 0.8989\n",
            "Epoch 297/500\n",
            "219/219 [==============================] - 2s 10ms/step - loss: 0.1354 - accuracy: 0.9544 - val_loss: 0.3487 - val_accuracy: 0.8955\n",
            "Epoch 298/500\n",
            "219/219 [==============================] - 2s 10ms/step - loss: 0.1604 - accuracy: 0.9442 - val_loss: 0.3520 - val_accuracy: 0.8975\n",
            "Epoch 299/500\n",
            "219/219 [==============================] - 2s 10ms/step - loss: 0.1536 - accuracy: 0.9494 - val_loss: 0.4077 - val_accuracy: 0.8832\n",
            "Epoch 300/500\n",
            "219/219 [==============================] - 2s 10ms/step - loss: 0.1418 - accuracy: 0.9551 - val_loss: 0.3366 - val_accuracy: 0.8999\n",
            "Epoch 301/500\n",
            "219/219 [==============================] - 2s 10ms/step - loss: 0.1489 - accuracy: 0.9516 - val_loss: 0.3324 - val_accuracy: 0.9032\n",
            "Epoch 302/500\n",
            "219/219 [==============================] - 2s 10ms/step - loss: 0.1527 - accuracy: 0.9491 - val_loss: 0.4006 - val_accuracy: 0.8825\n",
            "Epoch 303/500\n",
            "219/219 [==============================] - 2s 10ms/step - loss: 0.1500 - accuracy: 0.9515 - val_loss: 0.3679 - val_accuracy: 0.8942\n",
            "Epoch 304/500\n",
            "219/219 [==============================] - 2s 10ms/step - loss: 0.1396 - accuracy: 0.9511 - val_loss: 0.3463 - val_accuracy: 0.9009\n",
            "Epoch 305/500\n",
            "219/219 [==============================] - 2s 10ms/step - loss: 0.1578 - accuracy: 0.9491 - val_loss: 0.3758 - val_accuracy: 0.8875\n",
            "Epoch 306/500\n",
            "219/219 [==============================] - 2s 10ms/step - loss: 0.1413 - accuracy: 0.9511 - val_loss: 0.3503 - val_accuracy: 0.8982\n",
            "Epoch 307/500\n",
            "219/219 [==============================] - 2s 10ms/step - loss: 0.1420 - accuracy: 0.9545 - val_loss: 0.3617 - val_accuracy: 0.8969\n",
            "Epoch 308/500\n",
            "219/219 [==============================] - 2s 10ms/step - loss: 0.1358 - accuracy: 0.9535 - val_loss: 0.3457 - val_accuracy: 0.9029\n",
            "Epoch 309/500\n",
            "219/219 [==============================] - 2s 10ms/step - loss: 0.1326 - accuracy: 0.9548 - val_loss: 0.3506 - val_accuracy: 0.8972\n",
            "Epoch 310/500\n",
            "219/219 [==============================] - 2s 10ms/step - loss: 0.1533 - accuracy: 0.9461 - val_loss: 0.3293 - val_accuracy: 0.9019\n",
            "Epoch 311/500\n",
            "219/219 [==============================] - 2s 10ms/step - loss: 0.1425 - accuracy: 0.9538 - val_loss: 0.3662 - val_accuracy: 0.8955\n",
            "Epoch 312/500\n",
            "219/219 [==============================] - 2s 10ms/step - loss: 0.1562 - accuracy: 0.9492 - val_loss: 0.3404 - val_accuracy: 0.8999\n",
            "Epoch 313/500\n",
            "219/219 [==============================] - 2s 10ms/step - loss: 0.1496 - accuracy: 0.9505 - val_loss: 0.3512 - val_accuracy: 0.9005\n",
            "Epoch 314/500\n",
            "219/219 [==============================] - 2s 10ms/step - loss: 0.1308 - accuracy: 0.9577 - val_loss: 0.3315 - val_accuracy: 0.9072\n",
            "Epoch 315/500\n",
            "219/219 [==============================] - 2s 10ms/step - loss: 0.1335 - accuracy: 0.9562 - val_loss: 0.3673 - val_accuracy: 0.8962\n",
            "Epoch 316/500\n",
            "219/219 [==============================] - 2s 10ms/step - loss: 0.1390 - accuracy: 0.9541 - val_loss: 0.3729 - val_accuracy: 0.8955\n",
            "Epoch 317/500\n",
            "219/219 [==============================] - 2s 10ms/step - loss: 0.1456 - accuracy: 0.9531 - val_loss: 0.3377 - val_accuracy: 0.9015\n",
            "Epoch 318/500\n",
            "219/219 [==============================] - 2s 10ms/step - loss: 0.1337 - accuracy: 0.9538 - val_loss: 0.3181 - val_accuracy: 0.9099\n",
            "Epoch 319/500\n",
            "219/219 [==============================] - 2s 10ms/step - loss: 0.1380 - accuracy: 0.9555 - val_loss: 0.3425 - val_accuracy: 0.8989\n",
            "Epoch 320/500\n",
            "219/219 [==============================] - 2s 10ms/step - loss: 0.1386 - accuracy: 0.9532 - val_loss: 0.3864 - val_accuracy: 0.8922\n",
            "Epoch 321/500\n",
            "219/219 [==============================] - 2s 10ms/step - loss: 0.1391 - accuracy: 0.9509 - val_loss: 0.3646 - val_accuracy: 0.8982\n",
            "Epoch 322/500\n",
            "219/219 [==============================] - 2s 10ms/step - loss: 0.1299 - accuracy: 0.9591 - val_loss: 0.3867 - val_accuracy: 0.8952\n",
            "Epoch 323/500\n",
            "219/219 [==============================] - 2s 10ms/step - loss: 0.1424 - accuracy: 0.9542 - val_loss: 0.3461 - val_accuracy: 0.8995\n",
            "Epoch 324/500\n",
            "219/219 [==============================] - 2s 10ms/step - loss: 0.1451 - accuracy: 0.9531 - val_loss: 0.3354 - val_accuracy: 0.9082\n",
            "Epoch 325/500\n",
            "219/219 [==============================] - 2s 10ms/step - loss: 0.1332 - accuracy: 0.9534 - val_loss: 0.3708 - val_accuracy: 0.8942\n",
            "Epoch 326/500\n",
            "219/219 [==============================] - 2s 10ms/step - loss: 0.1361 - accuracy: 0.9536 - val_loss: 0.3691 - val_accuracy: 0.8929\n",
            "Epoch 327/500\n",
            "219/219 [==============================] - 2s 10ms/step - loss: 0.1197 - accuracy: 0.9614 - val_loss: 0.3427 - val_accuracy: 0.9045\n",
            "Epoch 328/500\n",
            "219/219 [==============================] - 2s 10ms/step - loss: 0.1268 - accuracy: 0.9561 - val_loss: 0.3898 - val_accuracy: 0.8885\n",
            "Epoch 329/500\n",
            "219/219 [==============================] - 2s 10ms/step - loss: 0.1547 - accuracy: 0.9472 - val_loss: 0.3723 - val_accuracy: 0.8902\n",
            "Epoch 330/500\n",
            "219/219 [==============================] - 2s 10ms/step - loss: 0.1367 - accuracy: 0.9539 - val_loss: 0.3259 - val_accuracy: 0.8995\n",
            "Epoch 331/500\n",
            "219/219 [==============================] - 2s 10ms/step - loss: 0.1235 - accuracy: 0.9568 - val_loss: 0.3400 - val_accuracy: 0.9012\n",
            "Epoch 332/500\n",
            "219/219 [==============================] - 2s 10ms/step - loss: 0.1349 - accuracy: 0.9565 - val_loss: 0.3471 - val_accuracy: 0.8985\n",
            "Epoch 333/500\n",
            "219/219 [==============================] - 2s 10ms/step - loss: 0.1333 - accuracy: 0.9552 - val_loss: 0.3337 - val_accuracy: 0.9079\n",
            "Epoch 334/500\n",
            "219/219 [==============================] - 2s 10ms/step - loss: 0.1369 - accuracy: 0.9546 - val_loss: 0.3479 - val_accuracy: 0.8985\n",
            "Epoch 335/500\n",
            "219/219 [==============================] - 2s 10ms/step - loss: 0.1339 - accuracy: 0.9558 - val_loss: 0.3709 - val_accuracy: 0.8999\n",
            "Epoch 336/500\n",
            "219/219 [==============================] - 2s 10ms/step - loss: 0.1308 - accuracy: 0.9549 - val_loss: 0.3779 - val_accuracy: 0.8932\n",
            "Epoch 337/500\n",
            "219/219 [==============================] - 2s 10ms/step - loss: 0.1349 - accuracy: 0.9567 - val_loss: 0.3566 - val_accuracy: 0.9005\n",
            "Epoch 338/500\n",
            "219/219 [==============================] - 2s 10ms/step - loss: 0.1342 - accuracy: 0.9552 - val_loss: 0.3760 - val_accuracy: 0.8929\n",
            "Epoch 339/500\n",
            "219/219 [==============================] - 2s 10ms/step - loss: 0.1282 - accuracy: 0.9564 - val_loss: 0.4356 - val_accuracy: 0.8825\n",
            "Epoch 340/500\n",
            "219/219 [==============================] - 2s 10ms/step - loss: 0.1318 - accuracy: 0.9574 - val_loss: 0.4000 - val_accuracy: 0.8852\n",
            "Epoch 341/500\n",
            "219/219 [==============================] - 2s 10ms/step - loss: 0.1300 - accuracy: 0.9561 - val_loss: 0.3660 - val_accuracy: 0.8899\n",
            "Epoch 342/500\n",
            "219/219 [==============================] - 2s 10ms/step - loss: 0.1399 - accuracy: 0.9518 - val_loss: 0.3731 - val_accuracy: 0.8912\n",
            "Epoch 343/500\n",
            "219/219 [==============================] - 2s 10ms/step - loss: 0.1296 - accuracy: 0.9548 - val_loss: 0.3514 - val_accuracy: 0.8989\n",
            "Epoch 344/500\n",
            "219/219 [==============================] - 2s 10ms/step - loss: 0.1220 - accuracy: 0.9587 - val_loss: 0.3859 - val_accuracy: 0.8919\n",
            "Epoch 345/500\n",
            "219/219 [==============================] - 2s 10ms/step - loss: 0.1157 - accuracy: 0.9612 - val_loss: 0.3476 - val_accuracy: 0.8989\n",
            "Epoch 346/500\n",
            "219/219 [==============================] - 2s 10ms/step - loss: 0.1287 - accuracy: 0.9564 - val_loss: 0.3472 - val_accuracy: 0.8995\n",
            "Epoch 347/500\n",
            "219/219 [==============================] - 2s 10ms/step - loss: 0.1363 - accuracy: 0.9555 - val_loss: 0.3455 - val_accuracy: 0.9005\n",
            "Epoch 348/500\n",
            "219/219 [==============================] - 2s 10ms/step - loss: 0.1324 - accuracy: 0.9548 - val_loss: 0.3588 - val_accuracy: 0.9005\n",
            "Epoch 349/500\n",
            "219/219 [==============================] - 2s 10ms/step - loss: 0.1331 - accuracy: 0.9572 - val_loss: 0.3604 - val_accuracy: 0.8979\n",
            "Epoch 350/500\n",
            "219/219 [==============================] - 2s 10ms/step - loss: 0.1233 - accuracy: 0.9582 - val_loss: 0.3181 - val_accuracy: 0.9042\n",
            "Epoch 351/500\n",
            "219/219 [==============================] - 2s 10ms/step - loss: 0.1280 - accuracy: 0.9588 - val_loss: 0.3821 - val_accuracy: 0.8945\n",
            "Epoch 352/500\n",
            "219/219 [==============================] - 2s 10ms/step - loss: 0.1261 - accuracy: 0.9598 - val_loss: 0.3545 - val_accuracy: 0.8965\n",
            "Epoch 353/500\n",
            "219/219 [==============================] - 2s 10ms/step - loss: 0.1253 - accuracy: 0.9584 - val_loss: 0.3533 - val_accuracy: 0.8945\n",
            "Epoch 354/500\n",
            "219/219 [==============================] - 2s 10ms/step - loss: 0.1298 - accuracy: 0.9554 - val_loss: 0.3517 - val_accuracy: 0.9019\n",
            "Epoch 355/500\n",
            "219/219 [==============================] - 2s 10ms/step - loss: 0.1209 - accuracy: 0.9595 - val_loss: 0.3554 - val_accuracy: 0.9002\n",
            "Epoch 356/500\n",
            "219/219 [==============================] - 2s 10ms/step - loss: 0.1187 - accuracy: 0.9608 - val_loss: 0.3526 - val_accuracy: 0.8952\n",
            "Epoch 357/500\n",
            "219/219 [==============================] - 2s 10ms/step - loss: 0.1103 - accuracy: 0.9631 - val_loss: 0.3520 - val_accuracy: 0.9025\n",
            "Epoch 358/500\n",
            "219/219 [==============================] - 2s 10ms/step - loss: 0.1255 - accuracy: 0.9599 - val_loss: 0.3545 - val_accuracy: 0.8969\n",
            "Epoch 359/500\n",
            "219/219 [==============================] - 2s 10ms/step - loss: 0.1217 - accuracy: 0.9595 - val_loss: 0.3671 - val_accuracy: 0.8979\n",
            "Epoch 360/500\n",
            "219/219 [==============================] - 2s 10ms/step - loss: 0.1260 - accuracy: 0.9589 - val_loss: 0.3150 - val_accuracy: 0.9085\n",
            "Epoch 361/500\n",
            "219/219 [==============================] - 2s 10ms/step - loss: 0.1145 - accuracy: 0.9632 - val_loss: 0.4086 - val_accuracy: 0.8855\n",
            "Epoch 362/500\n",
            "219/219 [==============================] - 2s 10ms/step - loss: 0.1140 - accuracy: 0.9619 - val_loss: 0.3718 - val_accuracy: 0.8949\n",
            "Epoch 363/500\n",
            "219/219 [==============================] - 2s 10ms/step - loss: 0.1116 - accuracy: 0.9617 - val_loss: 0.3569 - val_accuracy: 0.8949\n",
            "Epoch 364/500\n",
            "219/219 [==============================] - 2s 10ms/step - loss: 0.1322 - accuracy: 0.9561 - val_loss: 0.3402 - val_accuracy: 0.9032\n",
            "Epoch 365/500\n",
            "219/219 [==============================] - 2s 10ms/step - loss: 0.1170 - accuracy: 0.9628 - val_loss: 0.3357 - val_accuracy: 0.8995\n",
            "Epoch 366/500\n",
            "219/219 [==============================] - 2s 10ms/step - loss: 0.1246 - accuracy: 0.9578 - val_loss: 0.3677 - val_accuracy: 0.8942\n",
            "Epoch 367/500\n",
            "219/219 [==============================] - 2s 10ms/step - loss: 0.1189 - accuracy: 0.9591 - val_loss: 0.4024 - val_accuracy: 0.8922\n",
            "Epoch 368/500\n",
            "219/219 [==============================] - 2s 10ms/step - loss: 0.1311 - accuracy: 0.9578 - val_loss: 0.3585 - val_accuracy: 0.9022\n",
            "Epoch 369/500\n",
            "219/219 [==============================] - 2s 10ms/step - loss: 0.1137 - accuracy: 0.9609 - val_loss: 0.3912 - val_accuracy: 0.8932\n",
            "Epoch 370/500\n",
            "219/219 [==============================] - 2s 10ms/step - loss: 0.1262 - accuracy: 0.9568 - val_loss: 0.3318 - val_accuracy: 0.9052\n",
            "Epoch 371/500\n",
            "219/219 [==============================] - 2s 10ms/step - loss: 0.1139 - accuracy: 0.9614 - val_loss: 0.3369 - val_accuracy: 0.9012\n",
            "Epoch 372/500\n",
            "219/219 [==============================] - 2s 10ms/step - loss: 0.1048 - accuracy: 0.9661 - val_loss: 0.3193 - val_accuracy: 0.9092\n",
            "Epoch 373/500\n",
            "219/219 [==============================] - 2s 10ms/step - loss: 0.1120 - accuracy: 0.9642 - val_loss: 0.3564 - val_accuracy: 0.8999\n",
            "Epoch 374/500\n",
            "219/219 [==============================] - 2s 10ms/step - loss: 0.1264 - accuracy: 0.9597 - val_loss: 0.3454 - val_accuracy: 0.9059\n",
            "Epoch 375/500\n",
            "219/219 [==============================] - 2s 10ms/step - loss: 0.1081 - accuracy: 0.9644 - val_loss: 0.3256 - val_accuracy: 0.9069\n",
            "Epoch 376/500\n",
            "219/219 [==============================] - 2s 10ms/step - loss: 0.1233 - accuracy: 0.9588 - val_loss: 0.3466 - val_accuracy: 0.9035\n",
            "Epoch 377/500\n",
            "219/219 [==============================] - 2s 10ms/step - loss: 0.1064 - accuracy: 0.9642 - val_loss: 0.3977 - val_accuracy: 0.8818\n",
            "Epoch 378/500\n",
            "219/219 [==============================] - 2s 10ms/step - loss: 0.1177 - accuracy: 0.9621 - val_loss: 0.4188 - val_accuracy: 0.8959\n",
            "Epoch 379/500\n",
            "219/219 [==============================] - 2s 10ms/step - loss: 0.1117 - accuracy: 0.9615 - val_loss: 0.3622 - val_accuracy: 0.8965\n",
            "Epoch 380/500\n",
            "219/219 [==============================] - 2s 10ms/step - loss: 0.1052 - accuracy: 0.9634 - val_loss: 0.3611 - val_accuracy: 0.8945\n",
            "Epoch 381/500\n",
            "219/219 [==============================] - 2s 10ms/step - loss: 0.1187 - accuracy: 0.9601 - val_loss: 0.3566 - val_accuracy: 0.8992\n",
            "Epoch 382/500\n",
            "219/219 [==============================] - 2s 10ms/step - loss: 0.1259 - accuracy: 0.9591 - val_loss: 0.4742 - val_accuracy: 0.8698\n",
            "Epoch 383/500\n",
            "219/219 [==============================] - 2s 10ms/step - loss: 0.1173 - accuracy: 0.9617 - val_loss: 0.3732 - val_accuracy: 0.8992\n",
            "Epoch 384/500\n",
            "219/219 [==============================] - 2s 10ms/step - loss: 0.1133 - accuracy: 0.9634 - val_loss: 0.3563 - val_accuracy: 0.8982\n",
            "Epoch 385/500\n",
            "219/219 [==============================] - 2s 10ms/step - loss: 0.1264 - accuracy: 0.9584 - val_loss: 0.3554 - val_accuracy: 0.9035\n",
            "Epoch 386/500\n",
            "219/219 [==============================] - 2s 10ms/step - loss: 0.1062 - accuracy: 0.9638 - val_loss: 0.3632 - val_accuracy: 0.9002\n",
            "Epoch 387/500\n",
            "219/219 [==============================] - 2s 10ms/step - loss: 0.1153 - accuracy: 0.9625 - val_loss: 0.3618 - val_accuracy: 0.9022\n",
            "Epoch 388/500\n",
            "219/219 [==============================] - 2s 10ms/step - loss: 0.1009 - accuracy: 0.9675 - val_loss: 0.3230 - val_accuracy: 0.9039\n",
            "Epoch 389/500\n",
            "219/219 [==============================] - 2s 10ms/step - loss: 0.1121 - accuracy: 0.9617 - val_loss: 0.3840 - val_accuracy: 0.8922\n",
            "Epoch 390/500\n",
            "219/219 [==============================] - 2s 10ms/step - loss: 0.1122 - accuracy: 0.9624 - val_loss: 0.3555 - val_accuracy: 0.8989\n",
            "Epoch 391/500\n",
            "219/219 [==============================] - 2s 10ms/step - loss: 0.1073 - accuracy: 0.9638 - val_loss: 0.3400 - val_accuracy: 0.9015\n",
            "Epoch 392/500\n",
            "219/219 [==============================] - 2s 10ms/step - loss: 0.1131 - accuracy: 0.9638 - val_loss: 0.3577 - val_accuracy: 0.8929\n",
            "Epoch 393/500\n",
            "219/219 [==============================] - 2s 10ms/step - loss: 0.1032 - accuracy: 0.9647 - val_loss: 0.3685 - val_accuracy: 0.8992\n",
            "Epoch 394/500\n",
            "219/219 [==============================] - 2s 10ms/step - loss: 0.1035 - accuracy: 0.9664 - val_loss: 0.3612 - val_accuracy: 0.9002\n",
            "Epoch 395/500\n",
            "219/219 [==============================] - 2s 10ms/step - loss: 0.1109 - accuracy: 0.9632 - val_loss: 0.4354 - val_accuracy: 0.8842\n",
            "Epoch 396/500\n",
            "219/219 [==============================] - 2s 10ms/step - loss: 0.1131 - accuracy: 0.9632 - val_loss: 0.3408 - val_accuracy: 0.9009\n",
            "Epoch 397/500\n",
            "219/219 [==============================] - 2s 10ms/step - loss: 0.1092 - accuracy: 0.9638 - val_loss: 0.3498 - val_accuracy: 0.8952\n",
            "Epoch 398/500\n",
            "219/219 [==============================] - 2s 10ms/step - loss: 0.1042 - accuracy: 0.9635 - val_loss: 0.3486 - val_accuracy: 0.9029\n",
            "Epoch 399/500\n",
            "219/219 [==============================] - 2s 10ms/step - loss: 0.1099 - accuracy: 0.9641 - val_loss: 0.3397 - val_accuracy: 0.9049\n",
            "Epoch 400/500\n",
            "219/219 [==============================] - 2s 10ms/step - loss: 0.1061 - accuracy: 0.9657 - val_loss: 0.3975 - val_accuracy: 0.8909\n",
            "Epoch 401/500\n",
            "219/219 [==============================] - 2s 10ms/step - loss: 0.1037 - accuracy: 0.9664 - val_loss: 0.3477 - val_accuracy: 0.9029\n",
            "Epoch 402/500\n",
            "219/219 [==============================] - 2s 10ms/step - loss: 0.1013 - accuracy: 0.9665 - val_loss: 0.3571 - val_accuracy: 0.9019\n",
            "Epoch 403/500\n",
            "219/219 [==============================] - 2s 10ms/step - loss: 0.0975 - accuracy: 0.9661 - val_loss: 0.3548 - val_accuracy: 0.9062\n",
            "Epoch 404/500\n",
            "219/219 [==============================] - 2s 10ms/step - loss: 0.1125 - accuracy: 0.9624 - val_loss: 0.3515 - val_accuracy: 0.9019\n",
            "Epoch 405/500\n",
            "219/219 [==============================] - 2s 10ms/step - loss: 0.1121 - accuracy: 0.9631 - val_loss: 0.3710 - val_accuracy: 0.8969\n",
            "Epoch 406/500\n",
            "219/219 [==============================] - 2s 10ms/step - loss: 0.0929 - accuracy: 0.9692 - val_loss: 0.3727 - val_accuracy: 0.9012\n",
            "Epoch 407/500\n",
            "219/219 [==============================] - 2s 10ms/step - loss: 0.1043 - accuracy: 0.9634 - val_loss: 0.3407 - val_accuracy: 0.9062\n",
            "Epoch 408/500\n",
            "219/219 [==============================] - 2s 10ms/step - loss: 0.1068 - accuracy: 0.9642 - val_loss: 0.3284 - val_accuracy: 0.9082\n",
            "Epoch 409/500\n",
            "219/219 [==============================] - 2s 10ms/step - loss: 0.1067 - accuracy: 0.9654 - val_loss: 0.3791 - val_accuracy: 0.8942\n",
            "Epoch 410/500\n",
            "219/219 [==============================] - 2s 10ms/step - loss: 0.1090 - accuracy: 0.9629 - val_loss: 0.5660 - val_accuracy: 0.8485\n",
            "Epoch 411/500\n",
            "219/219 [==============================] - 2s 10ms/step - loss: 0.1050 - accuracy: 0.9654 - val_loss: 0.4251 - val_accuracy: 0.8882\n",
            "Epoch 412/500\n",
            "219/219 [==============================] - 2s 10ms/step - loss: 0.1042 - accuracy: 0.9657 - val_loss: 0.3537 - val_accuracy: 0.9049\n",
            "Epoch 413/500\n",
            "219/219 [==============================] - 2s 10ms/step - loss: 0.1098 - accuracy: 0.9642 - val_loss: 0.4048 - val_accuracy: 0.8959\n",
            "Epoch 414/500\n",
            "219/219 [==============================] - 2s 10ms/step - loss: 0.1064 - accuracy: 0.9641 - val_loss: 0.3241 - val_accuracy: 0.9099\n",
            "Epoch 415/500\n",
            "219/219 [==============================] - 2s 10ms/step - loss: 0.0999 - accuracy: 0.9685 - val_loss: 0.3266 - val_accuracy: 0.9069\n",
            "Epoch 416/500\n",
            "219/219 [==============================] - 2s 10ms/step - loss: 0.0969 - accuracy: 0.9671 - val_loss: 0.4010 - val_accuracy: 0.8922\n",
            "Epoch 417/500\n",
            "219/219 [==============================] - 2s 10ms/step - loss: 0.0976 - accuracy: 0.9680 - val_loss: 0.3484 - val_accuracy: 0.9052\n",
            "Epoch 418/500\n",
            "219/219 [==============================] - 2s 10ms/step - loss: 0.1197 - accuracy: 0.9622 - val_loss: 0.3386 - val_accuracy: 0.9059\n",
            "Epoch 419/500\n",
            "219/219 [==============================] - 2s 10ms/step - loss: 0.1038 - accuracy: 0.9661 - val_loss: 0.4048 - val_accuracy: 0.8935\n",
            "Epoch 420/500\n",
            "219/219 [==============================] - 2s 10ms/step - loss: 0.1019 - accuracy: 0.9652 - val_loss: 0.3417 - val_accuracy: 0.9055\n",
            "Epoch 421/500\n",
            "219/219 [==============================] - 2s 10ms/step - loss: 0.0975 - accuracy: 0.9694 - val_loss: 0.3519 - val_accuracy: 0.9039\n",
            "Epoch 422/500\n",
            "219/219 [==============================] - 2s 10ms/step - loss: 0.0975 - accuracy: 0.9700 - val_loss: 0.3630 - val_accuracy: 0.8965\n",
            "Epoch 423/500\n",
            "219/219 [==============================] - 2s 10ms/step - loss: 0.0948 - accuracy: 0.9687 - val_loss: 0.3657 - val_accuracy: 0.8945\n",
            "Epoch 424/500\n",
            "219/219 [==============================] - 2s 10ms/step - loss: 0.0924 - accuracy: 0.9684 - val_loss: 0.3515 - val_accuracy: 0.9022\n",
            "Epoch 425/500\n",
            "219/219 [==============================] - 2s 10ms/step - loss: 0.0939 - accuracy: 0.9690 - val_loss: 0.3768 - val_accuracy: 0.8989\n",
            "Epoch 426/500\n",
            "219/219 [==============================] - 2s 10ms/step - loss: 0.1112 - accuracy: 0.9614 - val_loss: 0.4291 - val_accuracy: 0.8865\n",
            "Epoch 427/500\n",
            "219/219 [==============================] - 2s 10ms/step - loss: 0.1018 - accuracy: 0.9667 - val_loss: 0.3717 - val_accuracy: 0.8995\n",
            "Epoch 428/500\n",
            "219/219 [==============================] - 2s 10ms/step - loss: 0.0995 - accuracy: 0.9664 - val_loss: 0.3608 - val_accuracy: 0.9025\n",
            "Epoch 429/500\n",
            "219/219 [==============================] - 2s 10ms/step - loss: 0.1017 - accuracy: 0.9658 - val_loss: 0.3665 - val_accuracy: 0.9025\n",
            "Epoch 430/500\n",
            "219/219 [==============================] - 2s 10ms/step - loss: 0.1056 - accuracy: 0.9655 - val_loss: 0.3795 - val_accuracy: 0.8995\n",
            "Epoch 431/500\n",
            "219/219 [==============================] - 2s 10ms/step - loss: 0.0990 - accuracy: 0.9664 - val_loss: 0.3372 - val_accuracy: 0.9079\n",
            "Epoch 432/500\n",
            "219/219 [==============================] - 2s 10ms/step - loss: 0.0907 - accuracy: 0.9697 - val_loss: 0.3342 - val_accuracy: 0.9082\n",
            "Epoch 433/500\n",
            "219/219 [==============================] - 2s 10ms/step - loss: 0.0895 - accuracy: 0.9694 - val_loss: 0.3666 - val_accuracy: 0.9005\n",
            "Epoch 434/500\n",
            "219/219 [==============================] - 2s 10ms/step - loss: 0.0981 - accuracy: 0.9682 - val_loss: 0.3658 - val_accuracy: 0.9002\n",
            "Epoch 435/500\n",
            "219/219 [==============================] - 2s 10ms/step - loss: 0.0989 - accuracy: 0.9675 - val_loss: 0.3292 - val_accuracy: 0.9085\n",
            "Epoch 436/500\n",
            "219/219 [==============================] - 2s 10ms/step - loss: 0.1056 - accuracy: 0.9651 - val_loss: 0.3495 - val_accuracy: 0.9062\n",
            "Epoch 437/500\n",
            "219/219 [==============================] - 2s 10ms/step - loss: 0.0972 - accuracy: 0.9718 - val_loss: 0.3328 - val_accuracy: 0.9085\n",
            "Epoch 438/500\n",
            "219/219 [==============================] - 2s 10ms/step - loss: 0.0962 - accuracy: 0.9697 - val_loss: 0.3140 - val_accuracy: 0.9115\n",
            "Epoch 439/500\n",
            "219/219 [==============================] - 2s 10ms/step - loss: 0.0920 - accuracy: 0.9698 - val_loss: 0.3229 - val_accuracy: 0.9105\n",
            "Epoch 440/500\n",
            "219/219 [==============================] - 2s 10ms/step - loss: 0.0884 - accuracy: 0.9685 - val_loss: 0.3734 - val_accuracy: 0.8969\n",
            "Epoch 441/500\n",
            "219/219 [==============================] - 2s 10ms/step - loss: 0.1010 - accuracy: 0.9694 - val_loss: 0.3564 - val_accuracy: 0.9012\n",
            "Epoch 442/500\n",
            "219/219 [==============================] - 2s 10ms/step - loss: 0.0908 - accuracy: 0.9705 - val_loss: 0.3431 - val_accuracy: 0.9032\n",
            "Epoch 443/500\n",
            "219/219 [==============================] - 2s 10ms/step - loss: 0.0914 - accuracy: 0.9704 - val_loss: 0.3242 - val_accuracy: 0.9095\n",
            "Epoch 444/500\n",
            "219/219 [==============================] - 2s 10ms/step - loss: 0.1030 - accuracy: 0.9662 - val_loss: 0.3598 - val_accuracy: 0.9039\n",
            "Epoch 445/500\n",
            "219/219 [==============================] - 2s 10ms/step - loss: 0.0923 - accuracy: 0.9725 - val_loss: 0.3375 - val_accuracy: 0.9069\n",
            "Epoch 446/500\n",
            "219/219 [==============================] - 2s 10ms/step - loss: 0.0926 - accuracy: 0.9705 - val_loss: 0.3593 - val_accuracy: 0.9052\n",
            "Epoch 447/500\n",
            "219/219 [==============================] - 2s 10ms/step - loss: 0.1019 - accuracy: 0.9672 - val_loss: 0.3595 - val_accuracy: 0.9005\n",
            "Epoch 448/500\n",
            "219/219 [==============================] - 2s 10ms/step - loss: 0.0896 - accuracy: 0.9718 - val_loss: 0.3565 - val_accuracy: 0.9039\n",
            "Epoch 449/500\n",
            "219/219 [==============================] - 2s 10ms/step - loss: 0.0892 - accuracy: 0.9710 - val_loss: 0.3994 - val_accuracy: 0.8962\n",
            "Epoch 450/500\n",
            "219/219 [==============================] - 2s 10ms/step - loss: 0.0935 - accuracy: 0.9687 - val_loss: 0.3419 - val_accuracy: 0.9095\n",
            "Epoch 451/500\n",
            "219/219 [==============================] - 2s 10ms/step - loss: 0.0986 - accuracy: 0.9661 - val_loss: 0.3684 - val_accuracy: 0.9015\n",
            "Epoch 452/500\n",
            "219/219 [==============================] - 2s 10ms/step - loss: 0.0928 - accuracy: 0.9690 - val_loss: 0.3350 - val_accuracy: 0.9049\n",
            "Epoch 453/500\n",
            "219/219 [==============================] - 2s 10ms/step - loss: 0.0948 - accuracy: 0.9695 - val_loss: 0.3315 - val_accuracy: 0.9049\n",
            "Epoch 454/500\n",
            "219/219 [==============================] - 2s 10ms/step - loss: 0.1086 - accuracy: 0.9660 - val_loss: 0.3900 - val_accuracy: 0.8962\n",
            "Epoch 455/500\n",
            "219/219 [==============================] - 2s 10ms/step - loss: 0.0926 - accuracy: 0.9708 - val_loss: 0.3297 - val_accuracy: 0.9102\n",
            "Epoch 456/500\n",
            "219/219 [==============================] - 2s 10ms/step - loss: 0.0959 - accuracy: 0.9680 - val_loss: 0.3555 - val_accuracy: 0.9089\n",
            "Epoch 457/500\n",
            "219/219 [==============================] - 2s 10ms/step - loss: 0.0985 - accuracy: 0.9658 - val_loss: 0.3679 - val_accuracy: 0.9015\n",
            "Epoch 458/500\n",
            "219/219 [==============================] - 2s 10ms/step - loss: 0.0894 - accuracy: 0.9702 - val_loss: 0.4406 - val_accuracy: 0.8822\n",
            "Epoch 459/500\n",
            "219/219 [==============================] - 2s 10ms/step - loss: 0.0892 - accuracy: 0.9711 - val_loss: 0.3743 - val_accuracy: 0.9059\n",
            "Epoch 460/500\n",
            "219/219 [==============================] - 2s 10ms/step - loss: 0.0953 - accuracy: 0.9681 - val_loss: 0.3761 - val_accuracy: 0.9015\n",
            "Epoch 461/500\n",
            "219/219 [==============================] - 2s 10ms/step - loss: 0.0918 - accuracy: 0.9675 - val_loss: 0.3363 - val_accuracy: 0.9115\n",
            "Epoch 462/500\n",
            "219/219 [==============================] - 2s 10ms/step - loss: 0.0871 - accuracy: 0.9724 - val_loss: 0.3554 - val_accuracy: 0.9072\n",
            "Epoch 463/500\n",
            "219/219 [==============================] - 2s 10ms/step - loss: 0.0870 - accuracy: 0.9717 - val_loss: 0.3457 - val_accuracy: 0.9055\n",
            "Epoch 464/500\n",
            "219/219 [==============================] - 2s 10ms/step - loss: 0.1065 - accuracy: 0.9658 - val_loss: 0.3239 - val_accuracy: 0.9045\n",
            "Epoch 465/500\n",
            "219/219 [==============================] - 2s 10ms/step - loss: 0.0850 - accuracy: 0.9718 - val_loss: 0.3495 - val_accuracy: 0.9059\n",
            "Epoch 466/500\n",
            "219/219 [==============================] - 2s 10ms/step - loss: 0.0875 - accuracy: 0.9712 - val_loss: 0.3776 - val_accuracy: 0.9019\n",
            "Epoch 467/500\n",
            "219/219 [==============================] - 2s 10ms/step - loss: 0.0954 - accuracy: 0.9677 - val_loss: 0.3702 - val_accuracy: 0.9032\n",
            "Epoch 468/500\n",
            "219/219 [==============================] - 2s 10ms/step - loss: 0.0831 - accuracy: 0.9730 - val_loss: 0.3531 - val_accuracy: 0.9019\n",
            "Epoch 469/500\n",
            "219/219 [==============================] - 2s 10ms/step - loss: 0.0969 - accuracy: 0.9698 - val_loss: 0.3644 - val_accuracy: 0.8972\n",
            "Epoch 470/500\n",
            "219/219 [==============================] - 2s 10ms/step - loss: 0.0898 - accuracy: 0.9714 - val_loss: 0.3628 - val_accuracy: 0.9029\n",
            "Epoch 471/500\n",
            "219/219 [==============================] - 2s 10ms/step - loss: 0.0895 - accuracy: 0.9705 - val_loss: 0.3562 - val_accuracy: 0.9102\n",
            "Epoch 472/500\n",
            "219/219 [==============================] - 2s 10ms/step - loss: 0.0854 - accuracy: 0.9735 - val_loss: 0.3411 - val_accuracy: 0.9075\n",
            "Epoch 473/500\n",
            "219/219 [==============================] - 2s 10ms/step - loss: 0.0941 - accuracy: 0.9680 - val_loss: 0.3408 - val_accuracy: 0.9079\n",
            "Epoch 474/500\n",
            "219/219 [==============================] - 2s 10ms/step - loss: 0.0886 - accuracy: 0.9731 - val_loss: 0.3588 - val_accuracy: 0.9025\n",
            "Epoch 475/500\n",
            "219/219 [==============================] - 2s 10ms/step - loss: 0.0851 - accuracy: 0.9712 - val_loss: 0.3861 - val_accuracy: 0.8982\n",
            "Epoch 476/500\n",
            "219/219 [==============================] - 2s 10ms/step - loss: 0.0895 - accuracy: 0.9734 - val_loss: 0.3491 - val_accuracy: 0.9069\n",
            "Epoch 477/500\n",
            "219/219 [==============================] - 2s 10ms/step - loss: 0.0813 - accuracy: 0.9747 - val_loss: 0.4332 - val_accuracy: 0.8798\n",
            "Epoch 478/500\n",
            "219/219 [==============================] - 2s 10ms/step - loss: 0.0881 - accuracy: 0.9707 - val_loss: 0.3333 - val_accuracy: 0.9082\n",
            "Epoch 479/500\n",
            "219/219 [==============================] - 2s 10ms/step - loss: 0.0867 - accuracy: 0.9728 - val_loss: 0.3670 - val_accuracy: 0.8999\n",
            "Epoch 480/500\n",
            "219/219 [==============================] - 2s 10ms/step - loss: 0.0836 - accuracy: 0.9695 - val_loss: 0.3215 - val_accuracy: 0.9082\n",
            "Epoch 481/500\n",
            "219/219 [==============================] - 2s 10ms/step - loss: 0.0872 - accuracy: 0.9712 - val_loss: 0.3415 - val_accuracy: 0.9089\n",
            "Epoch 482/500\n",
            "219/219 [==============================] - 2s 10ms/step - loss: 0.0875 - accuracy: 0.9722 - val_loss: 0.4426 - val_accuracy: 0.8892\n",
            "Epoch 483/500\n",
            "219/219 [==============================] - 2s 10ms/step - loss: 0.0968 - accuracy: 0.9685 - val_loss: 0.3872 - val_accuracy: 0.8905\n",
            "Epoch 484/500\n",
            "219/219 [==============================] - 2s 10ms/step - loss: 0.0901 - accuracy: 0.9704 - val_loss: 0.3204 - val_accuracy: 0.9186\n",
            "Epoch 485/500\n",
            "219/219 [==============================] - 2s 10ms/step - loss: 0.0937 - accuracy: 0.9712 - val_loss: 0.3391 - val_accuracy: 0.9019\n",
            "Epoch 486/500\n",
            "219/219 [==============================] - 2s 10ms/step - loss: 0.0848 - accuracy: 0.9718 - val_loss: 0.3428 - val_accuracy: 0.9095\n",
            "Epoch 487/500\n",
            "219/219 [==============================] - 2s 10ms/step - loss: 0.0863 - accuracy: 0.9714 - val_loss: 0.3561 - val_accuracy: 0.8999\n",
            "Epoch 488/500\n",
            "219/219 [==============================] - 2s 10ms/step - loss: 0.0930 - accuracy: 0.9672 - val_loss: 0.3373 - val_accuracy: 0.9065\n",
            "Epoch 489/500\n",
            "219/219 [==============================] - 2s 10ms/step - loss: 0.0953 - accuracy: 0.9701 - val_loss: 0.3310 - val_accuracy: 0.9105\n",
            "Epoch 490/500\n",
            "219/219 [==============================] - 2s 10ms/step - loss: 0.0795 - accuracy: 0.9731 - val_loss: 0.3716 - val_accuracy: 0.9005\n",
            "Epoch 491/500\n",
            "219/219 [==============================] - 2s 10ms/step - loss: 0.0907 - accuracy: 0.9720 - val_loss: 0.3309 - val_accuracy: 0.9095\n",
            "Epoch 492/500\n",
            "219/219 [==============================] - 2s 10ms/step - loss: 0.0780 - accuracy: 0.9725 - val_loss: 0.3484 - val_accuracy: 0.9055\n",
            "Epoch 493/500\n",
            "219/219 [==============================] - 2s 10ms/step - loss: 0.0857 - accuracy: 0.9722 - val_loss: 0.3713 - val_accuracy: 0.8952\n",
            "Epoch 494/500\n",
            "219/219 [==============================] - 2s 10ms/step - loss: 0.0920 - accuracy: 0.9691 - val_loss: 0.3717 - val_accuracy: 0.9005\n",
            "Epoch 495/500\n",
            "219/219 [==============================] - 2s 10ms/step - loss: 0.0781 - accuracy: 0.9738 - val_loss: 0.3796 - val_accuracy: 0.9009\n",
            "Epoch 496/500\n",
            "219/219 [==============================] - 2s 10ms/step - loss: 0.0920 - accuracy: 0.9708 - val_loss: 0.3684 - val_accuracy: 0.8959\n",
            "Epoch 497/500\n",
            "219/219 [==============================] - 2s 10ms/step - loss: 0.0792 - accuracy: 0.9727 - val_loss: 0.3581 - val_accuracy: 0.9039\n",
            "Epoch 498/500\n",
            "219/219 [==============================] - 2s 10ms/step - loss: 0.0880 - accuracy: 0.9712 - val_loss: 0.3977 - val_accuracy: 0.8952\n",
            "Epoch 499/500\n",
            "219/219 [==============================] - 2s 10ms/step - loss: 0.0774 - accuracy: 0.9750 - val_loss: 0.3902 - val_accuracy: 0.8942\n",
            "Epoch 500/500\n",
            "219/219 [==============================] - 2s 10ms/step - loss: 0.0816 - accuracy: 0.9728 - val_loss: 0.4567 - val_accuracy: 0.8879\n"
          ],
          "name": "stdout"
        }
      ]
    },
    {
      "cell_type": "code",
      "metadata": {
        "id": "icDhoJR5Oe5f",
        "outputId": "f40f6223-e41d-49a6-abac-6981e87b1f5a",
        "colab": {
          "base_uri": "https://localhost:8080/",
          "height": 693
        }
      },
      "source": [
        "pd.DataFrame(hist.history).plot(figsize=(10,8))"
      ],
      "execution_count": 146,
      "outputs": [
        {
          "output_type": "execute_result",
          "data": {
            "text/plain": [
              "<matplotlib.axes._subplots.AxesSubplot at 0x7f300a3bee80>"
            ]
          },
          "metadata": {
            "tags": []
          },
          "execution_count": 146
        },
        {
          "output_type": "display_data",
          "data": {
            "image/png": "[encoded data removed]",
            "text/plain": [
              "<Figure size 1000x800 with 1 Axes>"
            ]
          },
          "metadata": {
            "tags": []
          }
        }
      ]
    },
    {
      "cell_type": "markdown",
      "metadata": {
        "id": "KnBk8ZNHQkG-"
      },
      "source": [
        "# Evaluation"
      ]
    },
    {
      "cell_type": "code",
      "metadata": {
        "id": "BF5A_fmZfd_Z",
        "outputId": "eea7f0d8-79d6-427f-e7ab-e171224a96fb",
        "colab": {
          "base_uri": "https://localhost:8080/"
        }
      },
      "source": [
        "model.evaluate(x_test,y_test_onehot)"
      ],
      "execution_count": 138,
      "outputs": [
        {
          "output_type": "stream",
          "text": [
            "94/94 [==============================] - 0s 4ms/step - loss: 0.1516 - accuracy: 0.9619\n"
          ],
          "name": "stdout"
        },
        {
          "output_type": "execute_result",
          "data": {
            "text/plain": [
              "[0.15158316493034363, 0.9619492888450623]"
            ]
          },
          "metadata": {
            "tags": []
          },
          "execution_count": 138
        }
      ]
    },
    {
      "cell_type": "code",
      "metadata": {
        "id": "C-TZAqrYmMBL",
        "outputId": "3071a3d0-8723-47ef-f6c7-c322c444835a",
        "colab": {
          "base_uri": "https://localhost:8080/"
        }
      },
      "source": [
        "y_proba_train = model.predict(x_train)\n",
        "y_classes_train = y_proba_train.argmax(axis=1)\n",
        "accuracy_train = ((y_classes_train == y_train).sum() / len(y_train) ) * 100\n",
        "print(f\"train accuracy : {accuracy_train}\")"
      ],
      "execution_count": 139,
      "outputs": [
        {
          "output_type": "stream",
          "text": [
            "train accuracy : 96.66666666666667\n"
          ],
          "name": "stdout"
        }
      ]
    },
    {
      "cell_type": "code",
      "metadata": {
        "id": "bwURWl2EI_8L",
        "outputId": "ee426cca-888e-48d4-c334-8648865560f7",
        "colab": {
          "base_uri": "https://localhost:8080/"
        }
      },
      "source": [
        "y_proba_test = model.predict(x_test)\n",
        "y_classes_test = y_proba_test.argmax(axis=1)\n",
        "accuracy_test = ((y_classes_test == y_test).sum() / len(y_test) ) * 100\n",
        "print(f\"test accuracy : {accuracy_test}\")"
      ],
      "execution_count": 140,
      "outputs": [
        {
          "output_type": "stream",
          "text": [
            "test accuracy : 96.19492656875835\n"
          ],
          "name": "stdout"
        }
      ]
    },
    {
      "cell_type": "code",
      "metadata": {
        "id": "rI2lca3OJnV4",
        "outputId": "d092fef1-e47d-4785-e8d8-1523a438e722",
        "colab": {
          "base_uri": "https://localhost:8080/"
        }
      },
      "source": [
        "print(classification_report(y_test,y_classes_test))"
      ],
      "execution_count": 149,
      "outputs": [
        {
          "output_type": "stream",
          "text": [
            "              precision    recall  f1-score   support\n",
            "\n",
            "           0       0.94      0.97      0.95       299\n",
            "           1       0.94      1.00      0.97       288\n",
            "           2       0.98      0.98      0.98       289\n",
            "           3       0.99      0.95      0.97       307\n",
            "           4       0.91      0.92      0.92       289\n",
            "           5       1.00      0.99      0.99       299\n",
            "           6       0.98      0.93      0.95       301\n",
            "           7       0.97      0.97      0.97       308\n",
            "           8       0.99      0.92      0.95       308\n",
            "           9       0.94      0.98      0.96       308\n",
            "\n",
            "    accuracy                           0.96      2996\n",
            "   macro avg       0.96      0.96      0.96      2996\n",
            "weighted avg       0.96      0.96      0.96      2996\n",
            "\n"
          ],
          "name": "stdout"
        }
      ]
    },
    {
      "cell_type": "code",
      "metadata": {
        "id": "bP4Db97IKnu0",
        "outputId": "52961b70-1f5e-4e7a-bfff-3edbb562026a",
        "colab": {
          "base_uri": "https://localhost:8080/",
          "height": 543
        }
      },
      "source": [
        "plt.figure(figsize=(10,6))\n",
        "sns.heatmap(confusion_matrix(y_test,y_classes_test),annot=True)"
      ],
      "execution_count": 150,
      "outputs": [
        {
          "output_type": "execute_result",
          "data": {
            "text/plain": [
              "<matplotlib.axes._subplots.AxesSubplot at 0x7f300a32e048>"
            ]
          },
          "metadata": {
            "tags": []
          },
          "execution_count": 150
        },
        {
          "output_type": "display_data",
          "data": {
            "image/png": "[encoded data removed]",
            "text/plain": [
              "<Figure size 1000x600 with 2 Axes>"
            ]
          },
          "metadata": {
            "tags": []
          }
        }
      ]
    },
    {
      "cell_type": "code",
      "metadata": {
        "id": "tS8ieKOSLbeY"
      },
      "source": [
        "save_model(model,\"genre_classification.h5\")"
      ],
      "execution_count": null,
      "outputs": []
    }
  ]
}